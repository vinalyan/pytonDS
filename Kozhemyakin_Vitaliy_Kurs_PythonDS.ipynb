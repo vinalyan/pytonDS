{
  "nbformat": 4,
  "nbformat_minor": 0,
  "metadata": {
    "colab": {
      "name": "Kozhemyakin Vitaliy Kurs PythonDS.ipynb",
      "provenance": [],
      "authorship_tag": "ABX9TyNJjtCJfKawXSU946EV42XU",
      "include_colab_link": true
    },
    "kernelspec": {
      "name": "python3",
      "display_name": "Python 3"
    }
  },
  "cells": [
    {
      "cell_type": "markdown",
      "metadata": {
        "id": "view-in-github",
        "colab_type": "text"
      },
      "source": [
        "<a href=\"https://colab.research.google.com/github/vinalyan/pytonDS/blob/lession--5/Kozhemyakin_Vitaliy_Kurs_PythonDS.ipynb\" target=\"_parent\"><img src=\"https://colab.research.google.com/assets/colab-badge.svg\" alt=\"Open In Colab\"/></a>"
      ]
    },
    {
      "cell_type": "code",
      "metadata": {
        "id": "jMbPUuKdn-sE"
      },
      "source": [
        "import pandas as pd\n",
        "import seaborn as sns"
      ],
      "execution_count": 1,
      "outputs": []
    },
    {
      "cell_type": "markdown",
      "metadata": {
        "id": "q5TmL_iSsgCv"
      },
      "source": [
        "* `Id` - идентификационный номер квартиры\n",
        "* `DistrictId` - идентификационный номер района\n",
        "* `Rooms` - количество комнат\n",
        "* `Square` - площадь\n",
        "* `LifeSquare` - жилая площадь\n",
        "* `KitchenSquare` - площадь кухни\n",
        "* `Floor` - этаж\n",
        "* `HouseFloor` - количество этажей в доме\n",
        "* `HouseYear` - год постройки дома\n",
        "* `Ecology_1, Ecology_2, Ecology_3` - экологические показатели местности\n",
        "* `Social_1, Social_2, Social_3` - социальные показатели местности\n",
        "* `Healthcare_1, Helthcare_2` - показатели местности, связанные с охраной здоровья\n",
        "* `Shops_1, Shops_2` - показатели, связанные с наличием магазинов, торговых центров\n",
        "* `Price` - цена квартиры"
      ]
    },
    {
      "cell_type": "code",
      "metadata": {
        "colab": {
          "base_uri": "https://localhost:8080/"
        },
        "id": "3P13_JzDoPDi",
        "outputId": "5af7f8ce-314d-47bd-d07f-7889ba28d937"
      },
      "source": [
        "df = pd.read_csv('/content/sample_data/train.csv')\n",
        "df.info()"
      ],
      "execution_count": 35,
      "outputs": [
        {
          "output_type": "stream",
          "text": [
            "<class 'pandas.core.frame.DataFrame'>\n",
            "RangeIndex: 10000 entries, 0 to 9999\n",
            "Data columns (total 20 columns):\n",
            " #   Column         Non-Null Count  Dtype  \n",
            "---  ------         --------------  -----  \n",
            " 0   Id             10000 non-null  int64  \n",
            " 1   DistrictId     10000 non-null  int64  \n",
            " 2   Rooms          10000 non-null  float64\n",
            " 3   Square         10000 non-null  float64\n",
            " 4   LifeSquare     7887 non-null   float64\n",
            " 5   KitchenSquare  10000 non-null  float64\n",
            " 6   Floor          10000 non-null  int64  \n",
            " 7   HouseFloor     10000 non-null  float64\n",
            " 8   HouseYear      10000 non-null  int64  \n",
            " 9   Ecology_1      10000 non-null  float64\n",
            " 10  Ecology_2      10000 non-null  object \n",
            " 11  Ecology_3      10000 non-null  object \n",
            " 12  Social_1       10000 non-null  int64  \n",
            " 13  Social_2       10000 non-null  int64  \n",
            " 14  Social_3       10000 non-null  int64  \n",
            " 15  Healthcare_1   5202 non-null   float64\n",
            " 16  Helthcare_2    10000 non-null  int64  \n",
            " 17  Shops_1        10000 non-null  int64  \n",
            " 18  Shops_2        10000 non-null  object \n",
            " 19  Price          10000 non-null  float64\n",
            "dtypes: float64(8), int64(9), object(3)\n",
            "memory usage: 1.5+ MB\n"
          ],
          "name": "stdout"
        }
      ]
    },
    {
      "cell_type": "markdown",
      "metadata": {
        "id": "JcCU8VAYroZq"
      },
      "source": [
        "Посмотрим на значения в колонках \n",
        "* Ecology_2\n",
        "* Ecology_3      \n",
        "* Shops_2 "
      ]
    },
    {
      "cell_type": "code",
      "metadata": {
        "colab": {
          "base_uri": "https://localhost:8080/"
        },
        "id": "JtXndG-gouEg",
        "outputId": "fec96f36-4e65-4496-8c34-072d309b133a"
      },
      "source": [
        "df['Ecology_3'].unique(), df['Ecology_2'].unique(), df['Shops_2'].unique()"
      ],
      "execution_count": 36,
      "outputs": [
        {
          "output_type": "execute_result",
          "data": {
            "text/plain": [
              "(array(['B', 'A'], dtype=object),\n",
              " array(['B', 'A'], dtype=object),\n",
              " array(['B', 'A'], dtype=object))"
            ]
          },
          "metadata": {
            "tags": []
          },
          "execution_count": 36
        }
      ]
    },
    {
      "cell_type": "markdown",
      "metadata": {
        "id": "hA2IDkSJr1yw"
      },
      "source": [
        "Видно, что это категориальные данные. Преобразуем из в циверки. "
      ]
    },
    {
      "cell_type": "code",
      "metadata": {
        "id": "xjbEOfZVpV1x"
      },
      "source": [
        "df.Ecology_2 = df.Ecology_2.replace('A', 0)\n",
        "df.Ecology_2 = df.Ecology_2.replace('B', 1)\n",
        "\n",
        "df.Ecology_3 = df.Ecology_3.replace('A', 0)\n",
        "df.Ecology_3 = df.Ecology_3.replace('B', 1)\n",
        "\n",
        "df.Shops_2 = df.Shops_2.replace('A', 0)\n",
        "df.Shops_2 = df.Shops_2.replace('B', 1)\n"
      ],
      "execution_count": 37,
      "outputs": []
    },
    {
      "cell_type": "code",
      "metadata": {
        "colab": {
          "base_uri": "https://localhost:8080/"
        },
        "id": "XGRgchOEpopI",
        "outputId": "d1da3183-ad40-42d7-b55f-ead03cf8401b"
      },
      "source": [
        "df['Ecology_3'].unique(), df['Ecology_2'].unique(), df['Shops_2'].unique()"
      ],
      "execution_count": 38,
      "outputs": [
        {
          "output_type": "execute_result",
          "data": {
            "text/plain": [
              "(array([1, 0]), array([1, 0]), array([1, 0]))"
            ]
          },
          "metadata": {
            "tags": []
          },
          "execution_count": 38
        }
      ]
    },
    {
      "cell_type": "code",
      "metadata": {
        "colab": {
          "base_uri": "https://localhost:8080/"
        },
        "id": "YrpYEjWsqhqo",
        "outputId": "f9e2ad6f-e573-4830-addb-801faa7db8b2"
      },
      "source": [
        "df.info()"
      ],
      "execution_count": 39,
      "outputs": [
        {
          "output_type": "stream",
          "text": [
            "<class 'pandas.core.frame.DataFrame'>\n",
            "RangeIndex: 10000 entries, 0 to 9999\n",
            "Data columns (total 20 columns):\n",
            " #   Column         Non-Null Count  Dtype  \n",
            "---  ------         --------------  -----  \n",
            " 0   Id             10000 non-null  int64  \n",
            " 1   DistrictId     10000 non-null  int64  \n",
            " 2   Rooms          10000 non-null  float64\n",
            " 3   Square         10000 non-null  float64\n",
            " 4   LifeSquare     7887 non-null   float64\n",
            " 5   KitchenSquare  10000 non-null  float64\n",
            " 6   Floor          10000 non-null  int64  \n",
            " 7   HouseFloor     10000 non-null  float64\n",
            " 8   HouseYear      10000 non-null  int64  \n",
            " 9   Ecology_1      10000 non-null  float64\n",
            " 10  Ecology_2      10000 non-null  int64  \n",
            " 11  Ecology_3      10000 non-null  int64  \n",
            " 12  Social_1       10000 non-null  int64  \n",
            " 13  Social_2       10000 non-null  int64  \n",
            " 14  Social_3       10000 non-null  int64  \n",
            " 15  Healthcare_1   5202 non-null   float64\n",
            " 16  Helthcare_2    10000 non-null  int64  \n",
            " 17  Shops_1        10000 non-null  int64  \n",
            " 18  Shops_2        10000 non-null  int64  \n",
            " 19  Price          10000 non-null  float64\n",
            "dtypes: float64(8), int64(12)\n",
            "memory usage: 1.5 MB\n"
          ],
          "name": "stdout"
        }
      ]
    },
    {
      "cell_type": "code",
      "metadata": {
        "id": "jtYn_wqnsUZy"
      },
      "source": [
        ""
      ],
      "execution_count": null,
      "outputs": []
    }
  ]
}