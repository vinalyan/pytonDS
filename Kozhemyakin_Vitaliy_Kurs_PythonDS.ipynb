{
  "nbformat": 4,
  "nbformat_minor": 0,
  "metadata": {
    "colab": {
      "name": "Kozhemyakin Vitaliy Kurs PythonDS.ipynb",
      "provenance": [],
      "authorship_tag": "ABX9TyP9uQNySpb0vc15/67vCZ9r",
      "include_colab_link": true
    },
    "kernelspec": {
      "name": "python3",
      "display_name": "Python 3"
    }
  },
  "cells": [
    {
      "cell_type": "markdown",
      "metadata": {
        "id": "view-in-github",
        "colab_type": "text"
      },
      "source": [
        "<a href=\"https://colab.research.google.com/github/vinalyan/pytonDS/blob/lession--5/Kozhemyakin_Vitaliy_Kurs_PythonDS.ipynb\" target=\"_parent\"><img src=\"https://colab.research.google.com/assets/colab-badge.svg\" alt=\"Open In Colab\"/></a>"
      ]
    },
    {
      "cell_type": "code",
      "metadata": {
        "id": "jMbPUuKdn-sE"
      },
      "source": [
        "import numpy as np\n",
        "import pandas as pd\n",
        "import seaborn as sns\n",
        "import matplotlib.pyplot as plt\n",
        "from sklearn.model_selection import train_test_split\n",
        "from sklearn.metrics import r2_score"
      ],
      "execution_count": 278,
      "outputs": []
    },
    {
      "cell_type": "markdown",
      "metadata": {
        "id": "q5TmL_iSsgCv"
      },
      "source": [
        "* `Id` - идентификационный номер квартиры\n",
        "* `DistrictId` - идентификационный номер района\n",
        "* `Rooms` - количество комнат\n",
        "* `Square` - площадь\n",
        "* `LifeSquare` - жилая площадь\n",
        "* `KitchenSquare` - площадь кухни\n",
        "* `Floor` - этаж\n",
        "* `HouseFloor` - количество этажей в доме\n",
        "* `HouseYear` - год постройки дома\n",
        "* `Ecology_1, Ecology_2, Ecology_3` - экологические показатели местности\n",
        "* `Social_1, Social_2, Social_3` - социальные показатели местности\n",
        "* `Healthcare_1, Helthcare_2` - показатели местности, связанные с охраной здоровья\n",
        "* `Shops_1, Shops_2` - показатели, связанные с наличием магазинов, торговых центров\n",
        "* `Price` - цена квартиры"
      ]
    },
    {
      "cell_type": "code",
      "metadata": {
        "colab": {
          "base_uri": "https://localhost:8080/"
        },
        "id": "3P13_JzDoPDi",
        "outputId": "529f3f44-00eb-4914-9267-a843dd896d38"
      },
      "source": [
        "df = pd.read_csv('/content/sample_data/train.csv')\n",
        "df.info()"
      ],
      "execution_count": 230,
      "outputs": [
        {
          "output_type": "stream",
          "text": [
            "<class 'pandas.core.frame.DataFrame'>\n",
            "RangeIndex: 10000 entries, 0 to 9999\n",
            "Data columns (total 20 columns):\n",
            " #   Column         Non-Null Count  Dtype  \n",
            "---  ------         --------------  -----  \n",
            " 0   Id             10000 non-null  int64  \n",
            " 1   DistrictId     10000 non-null  int64  \n",
            " 2   Rooms          10000 non-null  float64\n",
            " 3   Square         10000 non-null  float64\n",
            " 4   LifeSquare     7887 non-null   float64\n",
            " 5   KitchenSquare  10000 non-null  float64\n",
            " 6   Floor          10000 non-null  int64  \n",
            " 7   HouseFloor     10000 non-null  float64\n",
            " 8   HouseYear      10000 non-null  int64  \n",
            " 9   Ecology_1      10000 non-null  float64\n",
            " 10  Ecology_2      10000 non-null  object \n",
            " 11  Ecology_3      10000 non-null  object \n",
            " 12  Social_1       10000 non-null  int64  \n",
            " 13  Social_2       10000 non-null  int64  \n",
            " 14  Social_3       10000 non-null  int64  \n",
            " 15  Healthcare_1   5202 non-null   float64\n",
            " 16  Helthcare_2    10000 non-null  int64  \n",
            " 17  Shops_1        10000 non-null  int64  \n",
            " 18  Shops_2        10000 non-null  object \n",
            " 19  Price          10000 non-null  float64\n",
            "dtypes: float64(8), int64(9), object(3)\n",
            "memory usage: 1.5+ MB\n"
          ],
          "name": "stdout"
        }
      ]
    },
    {
      "cell_type": "markdown",
      "metadata": {
        "id": "JcCU8VAYroZq"
      },
      "source": [
        "Посмотрим на значения в колонках \n",
        "* Ecology_2\n",
        "* Ecology_3      \n",
        "* Shops_2 "
      ]
    },
    {
      "cell_type": "code",
      "metadata": {
        "colab": {
          "base_uri": "https://localhost:8080/"
        },
        "id": "JtXndG-gouEg",
        "outputId": "3b0616ab-9745-4ac6-8d09-d43307fea5a7"
      },
      "source": [
        "df['Ecology_3'].unique(), df['Ecology_2'].unique(), df['Shops_2'].unique()"
      ],
      "execution_count": 231,
      "outputs": [
        {
          "output_type": "execute_result",
          "data": {
            "text/plain": [
              "(array(['B', 'A'], dtype=object),\n",
              " array(['B', 'A'], dtype=object),\n",
              " array(['B', 'A'], dtype=object))"
            ]
          },
          "metadata": {
            "tags": []
          },
          "execution_count": 231
        }
      ]
    },
    {
      "cell_type": "markdown",
      "metadata": {
        "id": "hA2IDkSJr1yw"
      },
      "source": [
        "Видно, что это категориальные данные. Преобразуем из в циферки. "
      ]
    },
    {
      "cell_type": "code",
      "metadata": {
        "id": "xjbEOfZVpV1x"
      },
      "source": [
        "df.Ecology_2 = df.Ecology_2.replace('A', 0)\n",
        "df.Ecology_2 = df.Ecology_2.replace('B', 1)\n",
        "\n",
        "df.Ecology_3 = df.Ecology_3.replace('A', 0)\n",
        "df.Ecology_3 = df.Ecology_3.replace('B', 1)\n",
        "\n",
        "df.Shops_2 = df.Shops_2.replace('A', 0)\n",
        "df.Shops_2 = df.Shops_2.replace('B', 1)\n"
      ],
      "execution_count": 232,
      "outputs": []
    },
    {
      "cell_type": "code",
      "metadata": {
        "colab": {
          "base_uri": "https://localhost:8080/"
        },
        "id": "XGRgchOEpopI",
        "outputId": "ad4c2024-f6e3-4fbc-eb10-ca9a22822ea9"
      },
      "source": [
        "df['Ecology_3'].unique(), df['Ecology_2'].unique(), df['Shops_2'].unique()"
      ],
      "execution_count": 233,
      "outputs": [
        {
          "output_type": "execute_result",
          "data": {
            "text/plain": [
              "(array([1, 0]), array([1, 0]), array([1, 0]))"
            ]
          },
          "metadata": {
            "tags": []
          },
          "execution_count": 233
        }
      ]
    },
    {
      "cell_type": "code",
      "metadata": {
        "colab": {
          "base_uri": "https://localhost:8080/"
        },
        "id": "YrpYEjWsqhqo",
        "outputId": "2eaa42a7-b6eb-444c-b56b-c8f3c96e2160"
      },
      "source": [
        "df.info()"
      ],
      "execution_count": 234,
      "outputs": [
        {
          "output_type": "stream",
          "text": [
            "<class 'pandas.core.frame.DataFrame'>\n",
            "RangeIndex: 10000 entries, 0 to 9999\n",
            "Data columns (total 20 columns):\n",
            " #   Column         Non-Null Count  Dtype  \n",
            "---  ------         --------------  -----  \n",
            " 0   Id             10000 non-null  int64  \n",
            " 1   DistrictId     10000 non-null  int64  \n",
            " 2   Rooms          10000 non-null  float64\n",
            " 3   Square         10000 non-null  float64\n",
            " 4   LifeSquare     7887 non-null   float64\n",
            " 5   KitchenSquare  10000 non-null  float64\n",
            " 6   Floor          10000 non-null  int64  \n",
            " 7   HouseFloor     10000 non-null  float64\n",
            " 8   HouseYear      10000 non-null  int64  \n",
            " 9   Ecology_1      10000 non-null  float64\n",
            " 10  Ecology_2      10000 non-null  int64  \n",
            " 11  Ecology_3      10000 non-null  int64  \n",
            " 12  Social_1       10000 non-null  int64  \n",
            " 13  Social_2       10000 non-null  int64  \n",
            " 14  Social_3       10000 non-null  int64  \n",
            " 15  Healthcare_1   5202 non-null   float64\n",
            " 16  Helthcare_2    10000 non-null  int64  \n",
            " 17  Shops_1        10000 non-null  int64  \n",
            " 18  Shops_2        10000 non-null  int64  \n",
            " 19  Price          10000 non-null  float64\n",
            "dtypes: float64(8), int64(12)\n",
            "memory usage: 1.5 MB\n"
          ],
          "name": "stdout"
        }
      ]
    },
    {
      "cell_type": "code",
      "metadata": {
        "colab": {
          "base_uri": "https://localhost:8080/"
        },
        "id": "jtYn_wqnsUZy",
        "outputId": "dc461158-9f65-40a0-8adb-7728090e71f7"
      },
      "source": [
        "df['Healthcare_1'].describe()"
      ],
      "execution_count": 235,
      "outputs": [
        {
          "output_type": "execute_result",
          "data": {
            "text/plain": [
              "count    5202.000000\n",
              "mean     1142.904460\n",
              "std      1021.517264\n",
              "min         0.000000\n",
              "25%       350.000000\n",
              "50%       900.000000\n",
              "75%      1548.000000\n",
              "max      4849.000000\n",
              "Name: Healthcare_1, dtype: float64"
            ]
          },
          "metadata": {
            "tags": []
          },
          "execution_count": 235
        }
      ]
    },
    {
      "cell_type": "code",
      "metadata": {
        "colab": {
          "base_uri": "https://localhost:8080/"
        },
        "id": "wy2W0dtXtOYA",
        "outputId": "cce33249-0a78-4bfa-d0ba-8b1171f2a312"
      },
      "source": [
        "df.LifeSquare.describe()"
      ],
      "execution_count": 236,
      "outputs": [
        {
          "output_type": "execute_result",
          "data": {
            "text/plain": [
              "count    7887.000000\n",
              "mean       37.199645\n",
              "std        86.241209\n",
              "min         0.370619\n",
              "25%        22.769832\n",
              "50%        32.781260\n",
              "75%        45.128803\n",
              "max      7480.592129\n",
              "Name: LifeSquare, dtype: float64"
            ]
          },
          "metadata": {
            "tags": []
          },
          "execution_count": 236
        }
      ]
    },
    {
      "cell_type": "markdown",
      "metadata": {
        "id": "2rqKinAV2Eg4"
      },
      "source": [
        "Семь тысяч квадратных метров, что-то очень большая квартира"
      ]
    },
    {
      "cell_type": "code",
      "metadata": {
        "colab": {
          "base_uri": "https://localhost:8080/",
          "height": 100
        },
        "id": "3RaYGDsL2VPT",
        "outputId": "83686ace-450b-4a91-a142-b8127ef87cd0"
      },
      "source": [
        "df[df.LifeSquare > 2000]"
      ],
      "execution_count": 237,
      "outputs": [
        {
          "output_type": "execute_result",
          "data": {
            "text/html": [
              "<div>\n",
              "<style scoped>\n",
              "    .dataframe tbody tr th:only-of-type {\n",
              "        vertical-align: middle;\n",
              "    }\n",
              "\n",
              "    .dataframe tbody tr th {\n",
              "        vertical-align: top;\n",
              "    }\n",
              "\n",
              "    .dataframe thead th {\n",
              "        text-align: right;\n",
              "    }\n",
              "</style>\n",
              "<table border=\"1\" class=\"dataframe\">\n",
              "  <thead>\n",
              "    <tr style=\"text-align: right;\">\n",
              "      <th></th>\n",
              "      <th>Id</th>\n",
              "      <th>DistrictId</th>\n",
              "      <th>Rooms</th>\n",
              "      <th>Square</th>\n",
              "      <th>LifeSquare</th>\n",
              "      <th>KitchenSquare</th>\n",
              "      <th>Floor</th>\n",
              "      <th>HouseFloor</th>\n",
              "      <th>HouseYear</th>\n",
              "      <th>Ecology_1</th>\n",
              "      <th>Ecology_2</th>\n",
              "      <th>Ecology_3</th>\n",
              "      <th>Social_1</th>\n",
              "      <th>Social_2</th>\n",
              "      <th>Social_3</th>\n",
              "      <th>Healthcare_1</th>\n",
              "      <th>Helthcare_2</th>\n",
              "      <th>Shops_1</th>\n",
              "      <th>Shops_2</th>\n",
              "      <th>Price</th>\n",
              "    </tr>\n",
              "  </thead>\n",
              "  <tbody>\n",
              "    <tr>\n",
              "      <th>8000</th>\n",
              "      <td>16550</td>\n",
              "      <td>27</td>\n",
              "      <td>3.0</td>\n",
              "      <td>81.694417</td>\n",
              "      <td>7480.592129</td>\n",
              "      <td>1.0</td>\n",
              "      <td>9</td>\n",
              "      <td>17.0</td>\n",
              "      <td>2016</td>\n",
              "      <td>0.017647</td>\n",
              "      <td>1</td>\n",
              "      <td>1</td>\n",
              "      <td>2</td>\n",
              "      <td>469</td>\n",
              "      <td>0</td>\n",
              "      <td>NaN</td>\n",
              "      <td>0</td>\n",
              "      <td>0</td>\n",
              "      <td>1</td>\n",
              "      <td>217357.492366</td>\n",
              "    </tr>\n",
              "  </tbody>\n",
              "</table>\n",
              "</div>"
            ],
            "text/plain": [
              "         Id  DistrictId  Rooms  ...  Shops_1  Shops_2          Price\n",
              "8000  16550          27    3.0  ...        0        1  217357.492366\n",
              "\n",
              "[1 rows x 20 columns]"
            ]
          },
          "metadata": {
            "tags": []
          },
          "execution_count": 237
        }
      ]
    },
    {
      "cell_type": "markdown",
      "metadata": {
        "id": "6D3cQf5U2MyD"
      },
      "source": [
        "Тут явнавя ошибка. Скорее всего надо жизненное пространстро поделить на 100"
      ]
    },
    {
      "cell_type": "code",
      "metadata": {
        "colab": {
          "base_uri": "https://localhost:8080/",
          "height": 154
        },
        "id": "8ZSJ3b3u2nyz",
        "outputId": "baf42019-8a1b-4b15-b25d-fe0f6543fee5"
      },
      "source": [
        "df.LifeSquare[8000] = df.LifeSquare[8000] / 100\n",
        "df[df.LifeSquare > 2000]"
      ],
      "execution_count": 238,
      "outputs": [
        {
          "output_type": "stream",
          "text": [
            "/usr/local/lib/python3.6/dist-packages/ipykernel_launcher.py:1: SettingWithCopyWarning: \n",
            "A value is trying to be set on a copy of a slice from a DataFrame\n",
            "\n",
            "See the caveats in the documentation: https://pandas.pydata.org/pandas-docs/stable/user_guide/indexing.html#returning-a-view-versus-a-copy\n",
            "  \"\"\"Entry point for launching an IPython kernel.\n"
          ],
          "name": "stderr"
        },
        {
          "output_type": "execute_result",
          "data": {
            "text/html": [
              "<div>\n",
              "<style scoped>\n",
              "    .dataframe tbody tr th:only-of-type {\n",
              "        vertical-align: middle;\n",
              "    }\n",
              "\n",
              "    .dataframe tbody tr th {\n",
              "        vertical-align: top;\n",
              "    }\n",
              "\n",
              "    .dataframe thead th {\n",
              "        text-align: right;\n",
              "    }\n",
              "</style>\n",
              "<table border=\"1\" class=\"dataframe\">\n",
              "  <thead>\n",
              "    <tr style=\"text-align: right;\">\n",
              "      <th></th>\n",
              "      <th>Id</th>\n",
              "      <th>DistrictId</th>\n",
              "      <th>Rooms</th>\n",
              "      <th>Square</th>\n",
              "      <th>LifeSquare</th>\n",
              "      <th>KitchenSquare</th>\n",
              "      <th>Floor</th>\n",
              "      <th>HouseFloor</th>\n",
              "      <th>HouseYear</th>\n",
              "      <th>Ecology_1</th>\n",
              "      <th>Ecology_2</th>\n",
              "      <th>Ecology_3</th>\n",
              "      <th>Social_1</th>\n",
              "      <th>Social_2</th>\n",
              "      <th>Social_3</th>\n",
              "      <th>Healthcare_1</th>\n",
              "      <th>Helthcare_2</th>\n",
              "      <th>Shops_1</th>\n",
              "      <th>Shops_2</th>\n",
              "      <th>Price</th>\n",
              "    </tr>\n",
              "  </thead>\n",
              "  <tbody>\n",
              "  </tbody>\n",
              "</table>\n",
              "</div>"
            ],
            "text/plain": [
              "Empty DataFrame\n",
              "Columns: [Id, DistrictId, Rooms, Square, LifeSquare, KitchenSquare, Floor, HouseFloor, HouseYear, Ecology_1, Ecology_2, Ecology_3, Social_1, Social_2, Social_3, Healthcare_1, Helthcare_2, Shops_1, Shops_2, Price]\n",
              "Index: []"
            ]
          },
          "metadata": {
            "tags": []
          },
          "execution_count": 238
        }
      ]
    },
    {
      "cell_type": "code",
      "metadata": {
        "colab": {
          "base_uri": "https://localhost:8080/",
          "height": 100
        },
        "id": "5OLkS38-4QJM",
        "outputId": "3c941a1f-2df5-4f0a-8e7a-78c0d39dfd10"
      },
      "source": [
        "df[df.Id == 16550]"
      ],
      "execution_count": 239,
      "outputs": [
        {
          "output_type": "execute_result",
          "data": {
            "text/html": [
              "<div>\n",
              "<style scoped>\n",
              "    .dataframe tbody tr th:only-of-type {\n",
              "        vertical-align: middle;\n",
              "    }\n",
              "\n",
              "    .dataframe tbody tr th {\n",
              "        vertical-align: top;\n",
              "    }\n",
              "\n",
              "    .dataframe thead th {\n",
              "        text-align: right;\n",
              "    }\n",
              "</style>\n",
              "<table border=\"1\" class=\"dataframe\">\n",
              "  <thead>\n",
              "    <tr style=\"text-align: right;\">\n",
              "      <th></th>\n",
              "      <th>Id</th>\n",
              "      <th>DistrictId</th>\n",
              "      <th>Rooms</th>\n",
              "      <th>Square</th>\n",
              "      <th>LifeSquare</th>\n",
              "      <th>KitchenSquare</th>\n",
              "      <th>Floor</th>\n",
              "      <th>HouseFloor</th>\n",
              "      <th>HouseYear</th>\n",
              "      <th>Ecology_1</th>\n",
              "      <th>Ecology_2</th>\n",
              "      <th>Ecology_3</th>\n",
              "      <th>Social_1</th>\n",
              "      <th>Social_2</th>\n",
              "      <th>Social_3</th>\n",
              "      <th>Healthcare_1</th>\n",
              "      <th>Helthcare_2</th>\n",
              "      <th>Shops_1</th>\n",
              "      <th>Shops_2</th>\n",
              "      <th>Price</th>\n",
              "    </tr>\n",
              "  </thead>\n",
              "  <tbody>\n",
              "    <tr>\n",
              "      <th>8000</th>\n",
              "      <td>16550</td>\n",
              "      <td>27</td>\n",
              "      <td>3.0</td>\n",
              "      <td>81.694417</td>\n",
              "      <td>74.805921</td>\n",
              "      <td>1.0</td>\n",
              "      <td>9</td>\n",
              "      <td>17.0</td>\n",
              "      <td>2016</td>\n",
              "      <td>0.017647</td>\n",
              "      <td>1</td>\n",
              "      <td>1</td>\n",
              "      <td>2</td>\n",
              "      <td>469</td>\n",
              "      <td>0</td>\n",
              "      <td>NaN</td>\n",
              "      <td>0</td>\n",
              "      <td>0</td>\n",
              "      <td>1</td>\n",
              "      <td>217357.492366</td>\n",
              "    </tr>\n",
              "  </tbody>\n",
              "</table>\n",
              "</div>"
            ],
            "text/plain": [
              "         Id  DistrictId  Rooms  ...  Shops_1  Shops_2          Price\n",
              "8000  16550          27    3.0  ...        0        1  217357.492366\n",
              "\n",
              "[1 rows x 20 columns]"
            ]
          },
          "metadata": {
            "tags": []
          },
          "execution_count": 239
        }
      ]
    },
    {
      "cell_type": "code",
      "metadata": {
        "colab": {
          "base_uri": "https://localhost:8080/"
        },
        "id": "ION8Ded5vH4P",
        "outputId": "8b029369-5fb8-44a3-bc71-f56b38d562ce"
      },
      "source": [
        "LF = df.LifeSquare[df.LifeSquare.isna() == False]\n",
        "LF.describe()"
      ],
      "execution_count": 240,
      "outputs": [
        {
          "output_type": "execute_result",
          "data": {
            "text/plain": [
              "count    7887.000000\n",
              "mean       36.260658\n",
              "std        20.278485\n",
              "min         0.370619\n",
              "25%        22.769832\n",
              "50%        32.781260\n",
              "75%        45.128803\n",
              "max       638.163193\n",
              "Name: LifeSquare, dtype: float64"
            ]
          },
          "metadata": {
            "tags": []
          },
          "execution_count": 240
        }
      ]
    },
    {
      "cell_type": "code",
      "metadata": {
        "colab": {
          "base_uri": "https://localhost:8080/",
          "height": 131
        },
        "id": "VvTWU3gJzb0D",
        "outputId": "8c09dc9b-d4f0-4942-bdb0-1bacd1b6ec28"
      },
      "source": [
        "df[df.LifeSquare > 450]\n"
      ],
      "execution_count": 241,
      "outputs": [
        {
          "output_type": "execute_result",
          "data": {
            "text/html": [
              "<div>\n",
              "<style scoped>\n",
              "    .dataframe tbody tr th:only-of-type {\n",
              "        vertical-align: middle;\n",
              "    }\n",
              "\n",
              "    .dataframe tbody tr th {\n",
              "        vertical-align: top;\n",
              "    }\n",
              "\n",
              "    .dataframe thead th {\n",
              "        text-align: right;\n",
              "    }\n",
              "</style>\n",
              "<table border=\"1\" class=\"dataframe\">\n",
              "  <thead>\n",
              "    <tr style=\"text-align: right;\">\n",
              "      <th></th>\n",
              "      <th>Id</th>\n",
              "      <th>DistrictId</th>\n",
              "      <th>Rooms</th>\n",
              "      <th>Square</th>\n",
              "      <th>LifeSquare</th>\n",
              "      <th>KitchenSquare</th>\n",
              "      <th>Floor</th>\n",
              "      <th>HouseFloor</th>\n",
              "      <th>HouseYear</th>\n",
              "      <th>Ecology_1</th>\n",
              "      <th>Ecology_2</th>\n",
              "      <th>Ecology_3</th>\n",
              "      <th>Social_1</th>\n",
              "      <th>Social_2</th>\n",
              "      <th>Social_3</th>\n",
              "      <th>Healthcare_1</th>\n",
              "      <th>Helthcare_2</th>\n",
              "      <th>Shops_1</th>\n",
              "      <th>Shops_2</th>\n",
              "      <th>Price</th>\n",
              "    </tr>\n",
              "  </thead>\n",
              "  <tbody>\n",
              "    <tr>\n",
              "      <th>5183</th>\n",
              "      <td>15886</td>\n",
              "      <td>85</td>\n",
              "      <td>3.0</td>\n",
              "      <td>78.059331</td>\n",
              "      <td>461.463614</td>\n",
              "      <td>10.0</td>\n",
              "      <td>12</td>\n",
              "      <td>16.0</td>\n",
              "      <td>1998</td>\n",
              "      <td>0.037178</td>\n",
              "      <td>1</td>\n",
              "      <td>1</td>\n",
              "      <td>52</td>\n",
              "      <td>11217</td>\n",
              "      <td>1</td>\n",
              "      <td>2300.0</td>\n",
              "      <td>1</td>\n",
              "      <td>7</td>\n",
              "      <td>1</td>\n",
              "      <td>394253.299978</td>\n",
              "    </tr>\n",
              "    <tr>\n",
              "      <th>9229</th>\n",
              "      <td>11602</td>\n",
              "      <td>30</td>\n",
              "      <td>2.0</td>\n",
              "      <td>641.065193</td>\n",
              "      <td>638.163193</td>\n",
              "      <td>10.0</td>\n",
              "      <td>20</td>\n",
              "      <td>19.0</td>\n",
              "      <td>2019</td>\n",
              "      <td>0.000078</td>\n",
              "      <td>1</td>\n",
              "      <td>1</td>\n",
              "      <td>22</td>\n",
              "      <td>6398</td>\n",
              "      <td>141</td>\n",
              "      <td>1046.0</td>\n",
              "      <td>3</td>\n",
              "      <td>23</td>\n",
              "      <td>1</td>\n",
              "      <td>133529.681562</td>\n",
              "    </tr>\n",
              "  </tbody>\n",
              "</table>\n",
              "</div>"
            ],
            "text/plain": [
              "         Id  DistrictId  Rooms  ...  Shops_1  Shops_2          Price\n",
              "5183  15886          85    3.0  ...        7        1  394253.299978\n",
              "9229  11602          30    2.0  ...       23        1  133529.681562\n",
              "\n",
              "[2 rows x 20 columns]"
            ]
          },
          "metadata": {
            "tags": []
          },
          "execution_count": 241
        }
      ]
    },
    {
      "cell_type": "code",
      "metadata": {
        "colab": {
          "base_uri": "https://localhost:8080/"
        },
        "id": "UIATy4kB4da0",
        "outputId": "a7fb3690-9653-4c29-87dc-3c92ad791bb0"
      },
      "source": [
        "df.LifeSquare[5183] = df.LifeSquare[5183] / 10\n",
        "df.Square[9229] = df.Square[9229] / 10\n",
        "df.LifeSquare[9229] = df.LifeSquare[9229] / 10"
      ],
      "execution_count": 242,
      "outputs": [
        {
          "output_type": "stream",
          "text": [
            "/usr/local/lib/python3.6/dist-packages/ipykernel_launcher.py:1: SettingWithCopyWarning: \n",
            "A value is trying to be set on a copy of a slice from a DataFrame\n",
            "\n",
            "See the caveats in the documentation: https://pandas.pydata.org/pandas-docs/stable/user_guide/indexing.html#returning-a-view-versus-a-copy\n",
            "  \"\"\"Entry point for launching an IPython kernel.\n",
            "/usr/local/lib/python3.6/dist-packages/ipykernel_launcher.py:2: SettingWithCopyWarning: \n",
            "A value is trying to be set on a copy of a slice from a DataFrame\n",
            "\n",
            "See the caveats in the documentation: https://pandas.pydata.org/pandas-docs/stable/user_guide/indexing.html#returning-a-view-versus-a-copy\n",
            "  \n",
            "/usr/local/lib/python3.6/dist-packages/ipykernel_launcher.py:3: SettingWithCopyWarning: \n",
            "A value is trying to be set on a copy of a slice from a DataFrame\n",
            "\n",
            "See the caveats in the documentation: https://pandas.pydata.org/pandas-docs/stable/user_guide/indexing.html#returning-a-view-versus-a-copy\n",
            "  This is separate from the ipykernel package so we can avoid doing imports until\n"
          ],
          "name": "stderr"
        }
      ]
    },
    {
      "cell_type": "code",
      "metadata": {
        "colab": {
          "base_uri": "https://localhost:8080/",
          "height": 441
        },
        "id": "PZRwpIXT5z4n",
        "outputId": "63723fc8-d185-4d9d-c7a6-f989b93ffeac"
      },
      "source": [
        "df[df.LifeSquare > 140]"
      ],
      "execution_count": 249,
      "outputs": [
        {
          "output_type": "execute_result",
          "data": {
            "text/html": [
              "<div>\n",
              "<style scoped>\n",
              "    .dataframe tbody tr th:only-of-type {\n",
              "        vertical-align: middle;\n",
              "    }\n",
              "\n",
              "    .dataframe tbody tr th {\n",
              "        vertical-align: top;\n",
              "    }\n",
              "\n",
              "    .dataframe thead th {\n",
              "        text-align: right;\n",
              "    }\n",
              "</style>\n",
              "<table border=\"1\" class=\"dataframe\">\n",
              "  <thead>\n",
              "    <tr style=\"text-align: right;\">\n",
              "      <th></th>\n",
              "      <th>Id</th>\n",
              "      <th>DistrictId</th>\n",
              "      <th>Rooms</th>\n",
              "      <th>Square</th>\n",
              "      <th>LifeSquare</th>\n",
              "      <th>KitchenSquare</th>\n",
              "      <th>Floor</th>\n",
              "      <th>HouseFloor</th>\n",
              "      <th>HouseYear</th>\n",
              "      <th>Ecology_1</th>\n",
              "      <th>Ecology_2</th>\n",
              "      <th>Ecology_3</th>\n",
              "      <th>Social_1</th>\n",
              "      <th>Social_2</th>\n",
              "      <th>Social_3</th>\n",
              "      <th>Healthcare_1</th>\n",
              "      <th>Helthcare_2</th>\n",
              "      <th>Shops_1</th>\n",
              "      <th>Shops_2</th>\n",
              "      <th>Price</th>\n",
              "    </tr>\n",
              "  </thead>\n",
              "  <tbody>\n",
              "    <tr>\n",
              "      <th>357</th>\n",
              "      <td>14990</td>\n",
              "      <td>23</td>\n",
              "      <td>2.0</td>\n",
              "      <td>48.449873</td>\n",
              "      <td>263.542020</td>\n",
              "      <td>5.0</td>\n",
              "      <td>6</td>\n",
              "      <td>5.0</td>\n",
              "      <td>1972</td>\n",
              "      <td>0.075779</td>\n",
              "      <td>1</td>\n",
              "      <td>1</td>\n",
              "      <td>6</td>\n",
              "      <td>1437</td>\n",
              "      <td>3</td>\n",
              "      <td>NaN</td>\n",
              "      <td>0</td>\n",
              "      <td>2</td>\n",
              "      <td>1</td>\n",
              "      <td>141780.231857</td>\n",
              "    </tr>\n",
              "    <tr>\n",
              "      <th>730</th>\n",
              "      <td>14181</td>\n",
              "      <td>62</td>\n",
              "      <td>3.0</td>\n",
              "      <td>156.636577</td>\n",
              "      <td>153.685835</td>\n",
              "      <td>1.0</td>\n",
              "      <td>1</td>\n",
              "      <td>3.0</td>\n",
              "      <td>2005</td>\n",
              "      <td>0.072158</td>\n",
              "      <td>1</td>\n",
              "      <td>1</td>\n",
              "      <td>2</td>\n",
              "      <td>629</td>\n",
              "      <td>1</td>\n",
              "      <td>NaN</td>\n",
              "      <td>0</td>\n",
              "      <td>0</td>\n",
              "      <td>0</td>\n",
              "      <td>502523.573863</td>\n",
              "    </tr>\n",
              "    <tr>\n",
              "      <th>1776</th>\n",
              "      <td>16568</td>\n",
              "      <td>27</td>\n",
              "      <td>4.0</td>\n",
              "      <td>200.334539</td>\n",
              "      <td>201.627361</td>\n",
              "      <td>25.0</td>\n",
              "      <td>1</td>\n",
              "      <td>2.0</td>\n",
              "      <td>2013</td>\n",
              "      <td>0.041116</td>\n",
              "      <td>1</td>\n",
              "      <td>1</td>\n",
              "      <td>53</td>\n",
              "      <td>14892</td>\n",
              "      <td>4</td>\n",
              "      <td>NaN</td>\n",
              "      <td>1</td>\n",
              "      <td>4</td>\n",
              "      <td>1</td>\n",
              "      <td>528560.506016</td>\n",
              "    </tr>\n",
              "    <tr>\n",
              "      <th>1906</th>\n",
              "      <td>5548</td>\n",
              "      <td>86</td>\n",
              "      <td>5.0</td>\n",
              "      <td>275.645284</td>\n",
              "      <td>233.949309</td>\n",
              "      <td>26.0</td>\n",
              "      <td>12</td>\n",
              "      <td>37.0</td>\n",
              "      <td>2011</td>\n",
              "      <td>0.161976</td>\n",
              "      <td>1</td>\n",
              "      <td>0</td>\n",
              "      <td>31</td>\n",
              "      <td>7010</td>\n",
              "      <td>5</td>\n",
              "      <td>4508.0</td>\n",
              "      <td>3</td>\n",
              "      <td>7</td>\n",
              "      <td>1</td>\n",
              "      <td>455264.882666</td>\n",
              "    </tr>\n",
              "    <tr>\n",
              "      <th>3204</th>\n",
              "      <td>5621</td>\n",
              "      <td>23</td>\n",
              "      <td>3.0</td>\n",
              "      <td>163.495333</td>\n",
              "      <td>161.504222</td>\n",
              "      <td>12.0</td>\n",
              "      <td>5</td>\n",
              "      <td>3.0</td>\n",
              "      <td>1977</td>\n",
              "      <td>0.014073</td>\n",
              "      <td>1</td>\n",
              "      <td>1</td>\n",
              "      <td>2</td>\n",
              "      <td>475</td>\n",
              "      <td>0</td>\n",
              "      <td>NaN</td>\n",
              "      <td>0</td>\n",
              "      <td>0</td>\n",
              "      <td>1</td>\n",
              "      <td>207007.956663</td>\n",
              "    </tr>\n",
              "    <tr>\n",
              "      <th>5283</th>\n",
              "      <td>11055</td>\n",
              "      <td>151</td>\n",
              "      <td>1.0</td>\n",
              "      <td>174.649522</td>\n",
              "      <td>174.837082</td>\n",
              "      <td>15.0</td>\n",
              "      <td>10</td>\n",
              "      <td>12.0</td>\n",
              "      <td>1958</td>\n",
              "      <td>0.236108</td>\n",
              "      <td>1</td>\n",
              "      <td>1</td>\n",
              "      <td>16</td>\n",
              "      <td>3893</td>\n",
              "      <td>27</td>\n",
              "      <td>NaN</td>\n",
              "      <td>3</td>\n",
              "      <td>10</td>\n",
              "      <td>1</td>\n",
              "      <td>232766.187698</td>\n",
              "    </tr>\n",
              "    <tr>\n",
              "      <th>5712</th>\n",
              "      <td>8961</td>\n",
              "      <td>27</td>\n",
              "      <td>1.0</td>\n",
              "      <td>33.398983</td>\n",
              "      <td>164.153360</td>\n",
              "      <td>6.0</td>\n",
              "      <td>3</td>\n",
              "      <td>5.0</td>\n",
              "      <td>1965</td>\n",
              "      <td>0.211401</td>\n",
              "      <td>1</td>\n",
              "      <td>1</td>\n",
              "      <td>9</td>\n",
              "      <td>1892</td>\n",
              "      <td>0</td>\n",
              "      <td>NaN</td>\n",
              "      <td>0</td>\n",
              "      <td>1</td>\n",
              "      <td>1</td>\n",
              "      <td>104891.073757</td>\n",
              "    </tr>\n",
              "    <tr>\n",
              "      <th>6030</th>\n",
              "      <td>15362</td>\n",
              "      <td>23</td>\n",
              "      <td>1.0</td>\n",
              "      <td>163.286965</td>\n",
              "      <td>161.155275</td>\n",
              "      <td>1.0</td>\n",
              "      <td>4</td>\n",
              "      <td>3.0</td>\n",
              "      <td>1977</td>\n",
              "      <td>0.014073</td>\n",
              "      <td>1</td>\n",
              "      <td>1</td>\n",
              "      <td>2</td>\n",
              "      <td>475</td>\n",
              "      <td>0</td>\n",
              "      <td>NaN</td>\n",
              "      <td>0</td>\n",
              "      <td>0</td>\n",
              "      <td>1</td>\n",
              "      <td>228572.520347</td>\n",
              "    </tr>\n",
              "    <tr>\n",
              "      <th>6450</th>\n",
              "      <td>2603</td>\n",
              "      <td>30</td>\n",
              "      <td>3.0</td>\n",
              "      <td>162.587886</td>\n",
              "      <td>164.526757</td>\n",
              "      <td>0.0</td>\n",
              "      <td>2</td>\n",
              "      <td>3.0</td>\n",
              "      <td>1977</td>\n",
              "      <td>0.000078</td>\n",
              "      <td>1</td>\n",
              "      <td>1</td>\n",
              "      <td>22</td>\n",
              "      <td>6398</td>\n",
              "      <td>141</td>\n",
              "      <td>1046.0</td>\n",
              "      <td>3</td>\n",
              "      <td>23</td>\n",
              "      <td>1</td>\n",
              "      <td>207407.352593</td>\n",
              "    </tr>\n",
              "    <tr>\n",
              "      <th>7010</th>\n",
              "      <td>2307</td>\n",
              "      <td>102</td>\n",
              "      <td>1.0</td>\n",
              "      <td>409.425181</td>\n",
              "      <td>410.639749</td>\n",
              "      <td>10.0</td>\n",
              "      <td>4</td>\n",
              "      <td>4.0</td>\n",
              "      <td>2016</td>\n",
              "      <td>0.238617</td>\n",
              "      <td>1</td>\n",
              "      <td>1</td>\n",
              "      <td>26</td>\n",
              "      <td>3889</td>\n",
              "      <td>6</td>\n",
              "      <td>705.0</td>\n",
              "      <td>3</td>\n",
              "      <td>6</td>\n",
              "      <td>1</td>\n",
              "      <td>90470.430830</td>\n",
              "    </tr>\n",
              "    <tr>\n",
              "      <th>7644</th>\n",
              "      <td>7917</td>\n",
              "      <td>27</td>\n",
              "      <td>0.0</td>\n",
              "      <td>212.932361</td>\n",
              "      <td>211.231125</td>\n",
              "      <td>0.0</td>\n",
              "      <td>2</td>\n",
              "      <td>3.0</td>\n",
              "      <td>2008</td>\n",
              "      <td>0.211401</td>\n",
              "      <td>1</td>\n",
              "      <td>1</td>\n",
              "      <td>9</td>\n",
              "      <td>1892</td>\n",
              "      <td>0</td>\n",
              "      <td>NaN</td>\n",
              "      <td>0</td>\n",
              "      <td>1</td>\n",
              "      <td>1</td>\n",
              "      <td>302211.260887</td>\n",
              "    </tr>\n",
              "    <tr>\n",
              "      <th>8872</th>\n",
              "      <td>5300</td>\n",
              "      <td>30</td>\n",
              "      <td>3.0</td>\n",
              "      <td>169.509941</td>\n",
              "      <td>170.713651</td>\n",
              "      <td>1.0</td>\n",
              "      <td>2</td>\n",
              "      <td>2.0</td>\n",
              "      <td>2018</td>\n",
              "      <td>0.000078</td>\n",
              "      <td>1</td>\n",
              "      <td>1</td>\n",
              "      <td>22</td>\n",
              "      <td>6398</td>\n",
              "      <td>141</td>\n",
              "      <td>1046.0</td>\n",
              "      <td>3</td>\n",
              "      <td>23</td>\n",
              "      <td>1</td>\n",
              "      <td>200800.673767</td>\n",
              "    </tr>\n",
              "  </tbody>\n",
              "</table>\n",
              "</div>"
            ],
            "text/plain": [
              "         Id  DistrictId  Rooms  ...  Shops_1  Shops_2          Price\n",
              "357   14990          23    2.0  ...        2        1  141780.231857\n",
              "730   14181          62    3.0  ...        0        0  502523.573863\n",
              "1776  16568          27    4.0  ...        4        1  528560.506016\n",
              "1906   5548          86    5.0  ...        7        1  455264.882666\n",
              "3204   5621          23    3.0  ...        0        1  207007.956663\n",
              "5283  11055         151    1.0  ...       10        1  232766.187698\n",
              "5712   8961          27    1.0  ...        1        1  104891.073757\n",
              "6030  15362          23    1.0  ...        0        1  228572.520347\n",
              "6450   2603          30    3.0  ...       23        1  207407.352593\n",
              "7010   2307         102    1.0  ...        6        1   90470.430830\n",
              "7644   7917          27    0.0  ...        1        1  302211.260887\n",
              "8872   5300          30    3.0  ...       23        1  200800.673767\n",
              "\n",
              "[12 rows x 20 columns]"
            ]
          },
          "metadata": {
            "tags": []
          },
          "execution_count": 249
        }
      ]
    },
    {
      "cell_type": "code",
      "metadata": {
        "colab": {
          "base_uri": "https://localhost:8080/",
          "height": 439
        },
        "id": "16-h8ay307Yx",
        "outputId": "13176a4f-63f5-49e4-8d01-307d4bd82cef"
      },
      "source": [
        "df[df.LifeSquare > df.Square]"
      ],
      "execution_count": 244,
      "outputs": [
        {
          "output_type": "execute_result",
          "data": {
            "text/html": [
              "<div>\n",
              "<style scoped>\n",
              "    .dataframe tbody tr th:only-of-type {\n",
              "        vertical-align: middle;\n",
              "    }\n",
              "\n",
              "    .dataframe tbody tr th {\n",
              "        vertical-align: top;\n",
              "    }\n",
              "\n",
              "    .dataframe thead th {\n",
              "        text-align: right;\n",
              "    }\n",
              "</style>\n",
              "<table border=\"1\" class=\"dataframe\">\n",
              "  <thead>\n",
              "    <tr style=\"text-align: right;\">\n",
              "      <th></th>\n",
              "      <th>Id</th>\n",
              "      <th>DistrictId</th>\n",
              "      <th>Rooms</th>\n",
              "      <th>Square</th>\n",
              "      <th>LifeSquare</th>\n",
              "      <th>KitchenSquare</th>\n",
              "      <th>Floor</th>\n",
              "      <th>HouseFloor</th>\n",
              "      <th>HouseYear</th>\n",
              "      <th>Ecology_1</th>\n",
              "      <th>Ecology_2</th>\n",
              "      <th>Ecology_3</th>\n",
              "      <th>Social_1</th>\n",
              "      <th>Social_2</th>\n",
              "      <th>Social_3</th>\n",
              "      <th>Healthcare_1</th>\n",
              "      <th>Helthcare_2</th>\n",
              "      <th>Shops_1</th>\n",
              "      <th>Shops_2</th>\n",
              "      <th>Price</th>\n",
              "    </tr>\n",
              "  </thead>\n",
              "  <tbody>\n",
              "    <tr>\n",
              "      <th>33</th>\n",
              "      <td>847</td>\n",
              "      <td>74</td>\n",
              "      <td>2.0</td>\n",
              "      <td>73.314975</td>\n",
              "      <td>74.131261</td>\n",
              "      <td>1.0</td>\n",
              "      <td>7</td>\n",
              "      <td>6.0</td>\n",
              "      <td>1977</td>\n",
              "      <td>0.075779</td>\n",
              "      <td>1</td>\n",
              "      <td>1</td>\n",
              "      <td>6</td>\n",
              "      <td>1437</td>\n",
              "      <td>3</td>\n",
              "      <td>NaN</td>\n",
              "      <td>0</td>\n",
              "      <td>2</td>\n",
              "      <td>1</td>\n",
              "      <td>254005.381863</td>\n",
              "    </tr>\n",
              "    <tr>\n",
              "      <th>64</th>\n",
              "      <td>3992</td>\n",
              "      <td>1</td>\n",
              "      <td>3.0</td>\n",
              "      <td>87.200625</td>\n",
              "      <td>87.730225</td>\n",
              "      <td>0.0</td>\n",
              "      <td>21</td>\n",
              "      <td>22.0</td>\n",
              "      <td>1977</td>\n",
              "      <td>0.007122</td>\n",
              "      <td>1</td>\n",
              "      <td>1</td>\n",
              "      <td>1</td>\n",
              "      <td>264</td>\n",
              "      <td>0</td>\n",
              "      <td>NaN</td>\n",
              "      <td>0</td>\n",
              "      <td>1</td>\n",
              "      <td>1</td>\n",
              "      <td>300180.365669</td>\n",
              "    </tr>\n",
              "    <tr>\n",
              "      <th>77</th>\n",
              "      <td>11771</td>\n",
              "      <td>45</td>\n",
              "      <td>1.0</td>\n",
              "      <td>38.467276</td>\n",
              "      <td>39.624493</td>\n",
              "      <td>1.0</td>\n",
              "      <td>11</td>\n",
              "      <td>9.0</td>\n",
              "      <td>1977</td>\n",
              "      <td>0.195781</td>\n",
              "      <td>1</td>\n",
              "      <td>1</td>\n",
              "      <td>23</td>\n",
              "      <td>5212</td>\n",
              "      <td>6</td>\n",
              "      <td>NaN</td>\n",
              "      <td>3</td>\n",
              "      <td>2</td>\n",
              "      <td>1</td>\n",
              "      <td>247440.530601</td>\n",
              "    </tr>\n",
              "    <tr>\n",
              "      <th>100</th>\n",
              "      <td>13343</td>\n",
              "      <td>74</td>\n",
              "      <td>2.0</td>\n",
              "      <td>79.937665</td>\n",
              "      <td>82.931595</td>\n",
              "      <td>1.0</td>\n",
              "      <td>8</td>\n",
              "      <td>21.0</td>\n",
              "      <td>1977</td>\n",
              "      <td>0.075779</td>\n",
              "      <td>1</td>\n",
              "      <td>1</td>\n",
              "      <td>6</td>\n",
              "      <td>1437</td>\n",
              "      <td>3</td>\n",
              "      <td>NaN</td>\n",
              "      <td>0</td>\n",
              "      <td>2</td>\n",
              "      <td>1</td>\n",
              "      <td>226808.747168</td>\n",
              "    </tr>\n",
              "    <tr>\n",
              "      <th>111</th>\n",
              "      <td>13875</td>\n",
              "      <td>20</td>\n",
              "      <td>1.0</td>\n",
              "      <td>28.438794</td>\n",
              "      <td>32.514021</td>\n",
              "      <td>6.0</td>\n",
              "      <td>6</td>\n",
              "      <td>10.0</td>\n",
              "      <td>2014</td>\n",
              "      <td>0.019509</td>\n",
              "      <td>1</td>\n",
              "      <td>1</td>\n",
              "      <td>37</td>\n",
              "      <td>7687</td>\n",
              "      <td>11</td>\n",
              "      <td>176.0</td>\n",
              "      <td>5</td>\n",
              "      <td>5</td>\n",
              "      <td>1</td>\n",
              "      <td>199248.114376</td>\n",
              "    </tr>\n",
              "    <tr>\n",
              "      <th>...</th>\n",
              "      <td>...</td>\n",
              "      <td>...</td>\n",
              "      <td>...</td>\n",
              "      <td>...</td>\n",
              "      <td>...</td>\n",
              "      <td>...</td>\n",
              "      <td>...</td>\n",
              "      <td>...</td>\n",
              "      <td>...</td>\n",
              "      <td>...</td>\n",
              "      <td>...</td>\n",
              "      <td>...</td>\n",
              "      <td>...</td>\n",
              "      <td>...</td>\n",
              "      <td>...</td>\n",
              "      <td>...</td>\n",
              "      <td>...</td>\n",
              "      <td>...</td>\n",
              "      <td>...</td>\n",
              "      <td>...</td>\n",
              "    </tr>\n",
              "    <tr>\n",
              "      <th>9960</th>\n",
              "      <td>16258</td>\n",
              "      <td>48</td>\n",
              "      <td>3.0</td>\n",
              "      <td>96.056784</td>\n",
              "      <td>98.152802</td>\n",
              "      <td>1.0</td>\n",
              "      <td>15</td>\n",
              "      <td>1.0</td>\n",
              "      <td>2017</td>\n",
              "      <td>0.041125</td>\n",
              "      <td>1</td>\n",
              "      <td>1</td>\n",
              "      <td>46</td>\n",
              "      <td>9515</td>\n",
              "      <td>5</td>\n",
              "      <td>NaN</td>\n",
              "      <td>1</td>\n",
              "      <td>10</td>\n",
              "      <td>1</td>\n",
              "      <td>524365.550705</td>\n",
              "    </tr>\n",
              "    <tr>\n",
              "      <th>9962</th>\n",
              "      <td>14175</td>\n",
              "      <td>14</td>\n",
              "      <td>1.0</td>\n",
              "      <td>42.029175</td>\n",
              "      <td>44.682167</td>\n",
              "      <td>10.0</td>\n",
              "      <td>4</td>\n",
              "      <td>4.0</td>\n",
              "      <td>2018</td>\n",
              "      <td>0.238617</td>\n",
              "      <td>1</td>\n",
              "      <td>1</td>\n",
              "      <td>26</td>\n",
              "      <td>3889</td>\n",
              "      <td>6</td>\n",
              "      <td>705.0</td>\n",
              "      <td>3</td>\n",
              "      <td>6</td>\n",
              "      <td>1</td>\n",
              "      <td>87556.385617</td>\n",
              "    </tr>\n",
              "    <tr>\n",
              "      <th>9979</th>\n",
              "      <td>2201</td>\n",
              "      <td>6</td>\n",
              "      <td>1.0</td>\n",
              "      <td>40.043234</td>\n",
              "      <td>41.984322</td>\n",
              "      <td>1.0</td>\n",
              "      <td>3</td>\n",
              "      <td>17.0</td>\n",
              "      <td>2014</td>\n",
              "      <td>0.243205</td>\n",
              "      <td>1</td>\n",
              "      <td>1</td>\n",
              "      <td>5</td>\n",
              "      <td>1564</td>\n",
              "      <td>0</td>\n",
              "      <td>540.0</td>\n",
              "      <td>0</td>\n",
              "      <td>0</td>\n",
              "      <td>1</td>\n",
              "      <td>134888.083598</td>\n",
              "    </tr>\n",
              "    <tr>\n",
              "      <th>9987</th>\n",
              "      <td>11665</td>\n",
              "      <td>1</td>\n",
              "      <td>2.0</td>\n",
              "      <td>62.690057</td>\n",
              "      <td>64.602939</td>\n",
              "      <td>10.0</td>\n",
              "      <td>19</td>\n",
              "      <td>22.0</td>\n",
              "      <td>2018</td>\n",
              "      <td>0.007122</td>\n",
              "      <td>1</td>\n",
              "      <td>1</td>\n",
              "      <td>1</td>\n",
              "      <td>264</td>\n",
              "      <td>0</td>\n",
              "      <td>NaN</td>\n",
              "      <td>0</td>\n",
              "      <td>1</td>\n",
              "      <td>1</td>\n",
              "      <td>203908.192698</td>\n",
              "    </tr>\n",
              "    <tr>\n",
              "      <th>9993</th>\n",
              "      <td>9289</td>\n",
              "      <td>1</td>\n",
              "      <td>3.0</td>\n",
              "      <td>84.486078</td>\n",
              "      <td>88.931509</td>\n",
              "      <td>0.0</td>\n",
              "      <td>4</td>\n",
              "      <td>22.0</td>\n",
              "      <td>2016</td>\n",
              "      <td>0.007122</td>\n",
              "      <td>1</td>\n",
              "      <td>1</td>\n",
              "      <td>1</td>\n",
              "      <td>264</td>\n",
              "      <td>0</td>\n",
              "      <td>NaN</td>\n",
              "      <td>0</td>\n",
              "      <td>1</td>\n",
              "      <td>1</td>\n",
              "      <td>264213.558631</td>\n",
              "    </tr>\n",
              "  </tbody>\n",
              "</table>\n",
              "<p>480 rows × 20 columns</p>\n",
              "</div>"
            ],
            "text/plain": [
              "         Id  DistrictId  Rooms  ...  Shops_1  Shops_2          Price\n",
              "33      847          74    2.0  ...        2        1  254005.381863\n",
              "64     3992           1    3.0  ...        1        1  300180.365669\n",
              "77    11771          45    1.0  ...        2        1  247440.530601\n",
              "100   13343          74    2.0  ...        2        1  226808.747168\n",
              "111   13875          20    1.0  ...        5        1  199248.114376\n",
              "...     ...         ...    ...  ...      ...      ...            ...\n",
              "9960  16258          48    3.0  ...       10        1  524365.550705\n",
              "9962  14175          14    1.0  ...        6        1   87556.385617\n",
              "9979   2201           6    1.0  ...        0        1  134888.083598\n",
              "9987  11665           1    2.0  ...        1        1  203908.192698\n",
              "9993   9289           1    3.0  ...        1        1  264213.558631\n",
              "\n",
              "[480 rows x 20 columns]"
            ]
          },
          "metadata": {
            "tags": []
          },
          "execution_count": 244
        }
      ]
    },
    {
      "cell_type": "code",
      "metadata": {
        "colab": {
          "base_uri": "https://localhost:8080/",
          "height": 265
        },
        "id": "YM6lMt-pt1Vt",
        "outputId": "7c27197b-0586-4f25-d6c5-efb9a13217b8"
      },
      "source": [
        "LF = df.LifeSquare[df.LifeSquare.isna() == False]\n",
        "plt.boxplot(LF)\n",
        "\n",
        "plt.show()"
      ],
      "execution_count": 245,
      "outputs": [
        {
          "output_type": "display_data",
          "data": {
            "image/png": "[encoded data removed]",
            "text/plain": [
              "<Figure size 432x288 with 1 Axes>"
            ]
          },
          "metadata": {
            "tags": [],
            "needs_background": "light"
          }
        }
      ]
    },
    {
      "cell_type": "code",
      "metadata": {
        "colab": {
          "base_uri": "https://localhost:8080/",
          "height": 266
        },
        "id": "tykE7NdRuAHk",
        "outputId": "fa4b6d81-6094-40c0-9b53-3ea0aaa2b26c"
      },
      "source": [
        "plt.boxplot(df.Healthcare_1[df.Healthcare_1.isna() == False])\n",
        "plt.show()"
      ],
      "execution_count": 196,
      "outputs": [
        {
          "output_type": "display_data",
          "data": {
            "image/png": "[encoded data removed]",
            "text/plain": [
              "<Figure size 432x288 with 1 Axes>"
            ]
          },
          "metadata": {
            "tags": [],
            "needs_background": "light"
          }
        }
      ]
    },
    {
      "cell_type": "code",
      "metadata": {
        "id": "M8EElqCHuz6r"
      },
      "source": [
        ""
      ],
      "execution_count": 78,
      "outputs": []
    },
    {
      "cell_type": "code",
      "metadata": {
        "id": "C-GaIDXW7sgo"
      },
      "source": [
        "df_1 = df[df.LifeSquare.isna() == False]"
      ],
      "execution_count": 259,
      "outputs": []
    },
    {
      "cell_type": "code",
      "metadata": {
        "colab": {
          "base_uri": "https://localhost:8080/"
        },
        "id": "739fp3NV8ACO",
        "outputId": "839cec66-4e75-476b-a2e4-78f741f8165c"
      },
      "source": [
        "df_1 = df_1[df.Healthcare_1.isna() == False]"
      ],
      "execution_count": 261,
      "outputs": [
        {
          "output_type": "stream",
          "text": [
            "/usr/local/lib/python3.6/dist-packages/ipykernel_launcher.py:1: UserWarning: Boolean Series key will be reindexed to match DataFrame index.\n",
            "  \"\"\"Entry point for launching an IPython kernel.\n"
          ],
          "name": "stderr"
        }
      ]
    },
    {
      "cell_type": "code",
      "metadata": {
        "colab": {
          "base_uri": "https://localhost:8080/",
          "height": 439
        },
        "id": "TJgQkpJN8KFZ",
        "outputId": "35ee456a-52b3-4fba-bfbe-95e91f2b60e1"
      },
      "source": [
        "df_1"
      ],
      "execution_count": 262,
      "outputs": [
        {
          "output_type": "execute_result",
          "data": {
            "text/html": [
              "<div>\n",
              "<style scoped>\n",
              "    .dataframe tbody tr th:only-of-type {\n",
              "        vertical-align: middle;\n",
              "    }\n",
              "\n",
              "    .dataframe tbody tr th {\n",
              "        vertical-align: top;\n",
              "    }\n",
              "\n",
              "    .dataframe thead th {\n",
              "        text-align: right;\n",
              "    }\n",
              "</style>\n",
              "<table border=\"1\" class=\"dataframe\">\n",
              "  <thead>\n",
              "    <tr style=\"text-align: right;\">\n",
              "      <th></th>\n",
              "      <th>Id</th>\n",
              "      <th>DistrictId</th>\n",
              "      <th>Rooms</th>\n",
              "      <th>Square</th>\n",
              "      <th>LifeSquare</th>\n",
              "      <th>KitchenSquare</th>\n",
              "      <th>Floor</th>\n",
              "      <th>HouseFloor</th>\n",
              "      <th>HouseYear</th>\n",
              "      <th>Ecology_1</th>\n",
              "      <th>Ecology_2</th>\n",
              "      <th>Ecology_3</th>\n",
              "      <th>Social_1</th>\n",
              "      <th>Social_2</th>\n",
              "      <th>Social_3</th>\n",
              "      <th>Healthcare_1</th>\n",
              "      <th>Helthcare_2</th>\n",
              "      <th>Shops_1</th>\n",
              "      <th>Shops_2</th>\n",
              "      <th>Price</th>\n",
              "    </tr>\n",
              "  </thead>\n",
              "  <tbody>\n",
              "    <tr>\n",
              "      <th>1</th>\n",
              "      <td>3013</td>\n",
              "      <td>22</td>\n",
              "      <td>1.0</td>\n",
              "      <td>39.832524</td>\n",
              "      <td>23.169223</td>\n",
              "      <td>8.0</td>\n",
              "      <td>7</td>\n",
              "      <td>8.0</td>\n",
              "      <td>1966</td>\n",
              "      <td>0.118537</td>\n",
              "      <td>1</td>\n",
              "      <td>1</td>\n",
              "      <td>30</td>\n",
              "      <td>6207</td>\n",
              "      <td>1</td>\n",
              "      <td>1183.0</td>\n",
              "      <td>1</td>\n",
              "      <td>0</td>\n",
              "      <td>1</td>\n",
              "      <td>177734.553407</td>\n",
              "    </tr>\n",
              "    <tr>\n",
              "      <th>2</th>\n",
              "      <td>8215</td>\n",
              "      <td>1</td>\n",
              "      <td>3.0</td>\n",
              "      <td>78.342215</td>\n",
              "      <td>47.671972</td>\n",
              "      <td>10.0</td>\n",
              "      <td>2</td>\n",
              "      <td>17.0</td>\n",
              "      <td>1988</td>\n",
              "      <td>0.025609</td>\n",
              "      <td>1</td>\n",
              "      <td>1</td>\n",
              "      <td>33</td>\n",
              "      <td>5261</td>\n",
              "      <td>0</td>\n",
              "      <td>240.0</td>\n",
              "      <td>3</td>\n",
              "      <td>1</td>\n",
              "      <td>1</td>\n",
              "      <td>282078.720850</td>\n",
              "    </tr>\n",
              "    <tr>\n",
              "      <th>5</th>\n",
              "      <td>5804</td>\n",
              "      <td>99</td>\n",
              "      <td>3.0</td>\n",
              "      <td>62.528465</td>\n",
              "      <td>47.103833</td>\n",
              "      <td>6.0</td>\n",
              "      <td>9</td>\n",
              "      <td>9.0</td>\n",
              "      <td>1972</td>\n",
              "      <td>0.012339</td>\n",
              "      <td>1</td>\n",
              "      <td>1</td>\n",
              "      <td>35</td>\n",
              "      <td>5776</td>\n",
              "      <td>1</td>\n",
              "      <td>2078.0</td>\n",
              "      <td>2</td>\n",
              "      <td>4</td>\n",
              "      <td>1</td>\n",
              "      <td>161044.944138</td>\n",
              "    </tr>\n",
              "    <tr>\n",
              "      <th>6</th>\n",
              "      <td>8864</td>\n",
              "      <td>44</td>\n",
              "      <td>1.0</td>\n",
              "      <td>33.938750</td>\n",
              "      <td>21.772930</td>\n",
              "      <td>9.0</td>\n",
              "      <td>1</td>\n",
              "      <td>12.0</td>\n",
              "      <td>1968</td>\n",
              "      <td>0.232205</td>\n",
              "      <td>1</td>\n",
              "      <td>1</td>\n",
              "      <td>24</td>\n",
              "      <td>4860</td>\n",
              "      <td>1</td>\n",
              "      <td>80.0</td>\n",
              "      <td>0</td>\n",
              "      <td>3</td>\n",
              "      <td>1</td>\n",
              "      <td>142402.739272</td>\n",
              "    </tr>\n",
              "    <tr>\n",
              "      <th>7</th>\n",
              "      <td>13072</td>\n",
              "      <td>59</td>\n",
              "      <td>2.0</td>\n",
              "      <td>50.391814</td>\n",
              "      <td>32.893256</td>\n",
              "      <td>8.0</td>\n",
              "      <td>8</td>\n",
              "      <td>17.0</td>\n",
              "      <td>1986</td>\n",
              "      <td>0.019509</td>\n",
              "      <td>1</td>\n",
              "      <td>1</td>\n",
              "      <td>37</td>\n",
              "      <td>7687</td>\n",
              "      <td>11</td>\n",
              "      <td>176.0</td>\n",
              "      <td>5</td>\n",
              "      <td>5</td>\n",
              "      <td>1</td>\n",
              "      <td>326174.175191</td>\n",
              "    </tr>\n",
              "    <tr>\n",
              "      <th>...</th>\n",
              "      <td>...</td>\n",
              "      <td>...</td>\n",
              "      <td>...</td>\n",
              "      <td>...</td>\n",
              "      <td>...</td>\n",
              "      <td>...</td>\n",
              "      <td>...</td>\n",
              "      <td>...</td>\n",
              "      <td>...</td>\n",
              "      <td>...</td>\n",
              "      <td>...</td>\n",
              "      <td>...</td>\n",
              "      <td>...</td>\n",
              "      <td>...</td>\n",
              "      <td>...</td>\n",
              "      <td>...</td>\n",
              "      <td>...</td>\n",
              "      <td>...</td>\n",
              "      <td>...</td>\n",
              "      <td>...</td>\n",
              "    </tr>\n",
              "    <tr>\n",
              "      <th>9989</th>\n",
              "      <td>729</td>\n",
              "      <td>58</td>\n",
              "      <td>2.0</td>\n",
              "      <td>45.118604</td>\n",
              "      <td>33.759011</td>\n",
              "      <td>5.0</td>\n",
              "      <td>8</td>\n",
              "      <td>12.0</td>\n",
              "      <td>1968</td>\n",
              "      <td>0.050756</td>\n",
              "      <td>1</td>\n",
              "      <td>1</td>\n",
              "      <td>24</td>\n",
              "      <td>5469</td>\n",
              "      <td>1</td>\n",
              "      <td>145.0</td>\n",
              "      <td>0</td>\n",
              "      <td>1</td>\n",
              "      <td>1</td>\n",
              "      <td>227361.501595</td>\n",
              "    </tr>\n",
              "    <tr>\n",
              "      <th>9990</th>\n",
              "      <td>10635</td>\n",
              "      <td>21</td>\n",
              "      <td>1.0</td>\n",
              "      <td>18.983962</td>\n",
              "      <td>11.419796</td>\n",
              "      <td>2.0</td>\n",
              "      <td>1</td>\n",
              "      <td>5.0</td>\n",
              "      <td>1967</td>\n",
              "      <td>0.194489</td>\n",
              "      <td>1</td>\n",
              "      <td>1</td>\n",
              "      <td>47</td>\n",
              "      <td>8004</td>\n",
              "      <td>3</td>\n",
              "      <td>125.0</td>\n",
              "      <td>3</td>\n",
              "      <td>5</td>\n",
              "      <td>1</td>\n",
              "      <td>112411.221700</td>\n",
              "    </tr>\n",
              "    <tr>\n",
              "      <th>9992</th>\n",
              "      <td>11753</td>\n",
              "      <td>37</td>\n",
              "      <td>2.0</td>\n",
              "      <td>50.902724</td>\n",
              "      <td>27.159548</td>\n",
              "      <td>6.0</td>\n",
              "      <td>4</td>\n",
              "      <td>9.0</td>\n",
              "      <td>1972</td>\n",
              "      <td>0.127812</td>\n",
              "      <td>1</td>\n",
              "      <td>1</td>\n",
              "      <td>28</td>\n",
              "      <td>7287</td>\n",
              "      <td>5</td>\n",
              "      <td>320.0</td>\n",
              "      <td>1</td>\n",
              "      <td>3</td>\n",
              "      <td>1</td>\n",
              "      <td>196641.468817</td>\n",
              "    </tr>\n",
              "    <tr>\n",
              "      <th>9994</th>\n",
              "      <td>4356</td>\n",
              "      <td>9</td>\n",
              "      <td>1.0</td>\n",
              "      <td>43.303458</td>\n",
              "      <td>21.519087</td>\n",
              "      <td>8.0</td>\n",
              "      <td>12</td>\n",
              "      <td>14.0</td>\n",
              "      <td>1992</td>\n",
              "      <td>0.161532</td>\n",
              "      <td>1</td>\n",
              "      <td>1</td>\n",
              "      <td>25</td>\n",
              "      <td>5648</td>\n",
              "      <td>1</td>\n",
              "      <td>30.0</td>\n",
              "      <td>2</td>\n",
              "      <td>4</td>\n",
              "      <td>1</td>\n",
              "      <td>136744.340827</td>\n",
              "    </tr>\n",
              "    <tr>\n",
              "      <th>9998</th>\n",
              "      <td>14561</td>\n",
              "      <td>21</td>\n",
              "      <td>1.0</td>\n",
              "      <td>32.330292</td>\n",
              "      <td>22.326870</td>\n",
              "      <td>5.0</td>\n",
              "      <td>3</td>\n",
              "      <td>9.0</td>\n",
              "      <td>1969</td>\n",
              "      <td>0.194489</td>\n",
              "      <td>1</td>\n",
              "      <td>1</td>\n",
              "      <td>47</td>\n",
              "      <td>8004</td>\n",
              "      <td>3</td>\n",
              "      <td>125.0</td>\n",
              "      <td>3</td>\n",
              "      <td>5</td>\n",
              "      <td>1</td>\n",
              "      <td>171842.411855</td>\n",
              "    </tr>\n",
              "  </tbody>\n",
              "</table>\n",
              "<p>4457 rows × 20 columns</p>\n",
              "</div>"
            ],
            "text/plain": [
              "         Id  DistrictId  Rooms  ...  Shops_1  Shops_2          Price\n",
              "1      3013          22    1.0  ...        0        1  177734.553407\n",
              "2      8215           1    3.0  ...        1        1  282078.720850\n",
              "5      5804          99    3.0  ...        4        1  161044.944138\n",
              "6      8864          44    1.0  ...        3        1  142402.739272\n",
              "7     13072          59    2.0  ...        5        1  326174.175191\n",
              "...     ...         ...    ...  ...      ...      ...            ...\n",
              "9989    729          58    2.0  ...        1        1  227361.501595\n",
              "9990  10635          21    1.0  ...        5        1  112411.221700\n",
              "9992  11753          37    2.0  ...        3        1  196641.468817\n",
              "9994   4356           9    1.0  ...        4        1  136744.340827\n",
              "9998  14561          21    1.0  ...        5        1  171842.411855\n",
              "\n",
              "[4457 rows x 20 columns]"
            ]
          },
          "metadata": {
            "tags": []
          },
          "execution_count": 262
        }
      ]
    },
    {
      "cell_type": "code",
      "metadata": {
        "colab": {
          "base_uri": "https://localhost:8080/",
          "height": 332
        },
        "id": "6v_07mFX8WJ9",
        "outputId": "328e5c5b-4eac-46b3-9043-a5f5da8bf4ba"
      },
      "source": [
        "sns.heatmap(df_1.corr());\n"
      ],
      "execution_count": 263,
      "outputs": [
        {
          "output_type": "display_data",
          "data": {
            "image/png": "[encoded data removed]",
            "text/plain": [
              "<Figure size 432x288 with 2 Axes>"
            ]
          },
          "metadata": {
            "tags": [],
            "needs_background": "light"
          }
        }
      ]
    },
    {
      "cell_type": "code",
      "metadata": {
        "id": "U2YPzJcZ8bFC"
      },
      "source": [
        "X = df_1[['Rooms', 'DistrictId']]\n",
        "y = df_1['Price']"
      ],
      "execution_count": 286,
      "outputs": []
    },
    {
      "cell_type": "code",
      "metadata": {
        "id": "9mMg9cwx9D-m"
      },
      "source": [
        "X_train, X_test, y_train, y_test = train_test_split(X, y, test_size = 0.3, random_state = 42)"
      ],
      "execution_count": 287,
      "outputs": []
    },
    {
      "cell_type": "code",
      "metadata": {
        "colab": {
          "base_uri": "https://localhost:8080/"
        },
        "id": "OiQ_HWM28nzP",
        "outputId": "5d7f657e-0657-475b-89d5-278d60874ae0"
      },
      "source": [
        "from sklearn.linear_model import LinearRegression, Ridge, Lasso\n",
        "#линейная регрессия\n",
        "\n",
        "model_lr = LinearRegression().fit(X_train, y_train)\n",
        "\n",
        "#L2 регуляризация\n",
        "model_rige = Ridge(alpha=1.0)\n",
        "model_rige.fit(X_train, y_train)\n",
        "\n",
        "#L1 - регуляризация\n",
        "model_lasso = Lasso(alpha=1.0)\n",
        "model_lasso.fit(X_train, y_train)\n",
        "\n",
        "#Деревья"
      ],
      "execution_count": 288,
      "outputs": [
        {
          "output_type": "execute_result",
          "data": {
            "text/plain": [
              "Lasso(alpha=1.0, copy_X=True, fit_intercept=True, max_iter=1000,\n",
              "      normalize=False, positive=False, precompute=False, random_state=None,\n",
              "      selection='cyclic', tol=0.0001, warm_start=False)"
            ]
          },
          "metadata": {
            "tags": []
          },
          "execution_count": 288
        }
      ]
    },
    {
      "cell_type": "code",
      "metadata": {
        "colab": {
          "base_uri": "https://localhost:8080/"
        },
        "id": "nRpfx0lW8qiD",
        "outputId": "eaaa4c1e-3d8d-4907-f474-f06fafe80a60"
      },
      "source": [
        "print('R2')\n",
        "print(f'LR_train {r2_score(model_lr.predict(X_train),y_train)}')\n",
        "print(f'L1_train {r2_score(model_lasso.predict(X_train),y_train)}')\n",
        "print(f'L2_train {r2_score(model_rige.predict(X_train),y_train)}')\n",
        "\n",
        "print(f'LR_test {r2_score(model_lr.predict(X_test),y_test)}')\n",
        "print(f'L1_test {r2_score(model_lasso.predict(X_test),y_test)}')\n",
        "print(f'L2_test {r2_score(model_rige.predict(X_test),y_test)}')\n"
      ],
      "execution_count": 290,
      "outputs": [
        {
          "output_type": "stream",
          "text": [
            "R2\n",
            "LR_train -0.8798068709402294\n",
            "L1_train -0.8798809141843609\n",
            "L2_train -0.8813385183628848\n",
            "LR_test -1.2772830048784067\n",
            "L1_test -1.277372665450553\n",
            "L2_test -1.279140617056726\n"
          ],
          "name": "stdout"
        }
      ]
    },
    {
      "cell_type": "code",
      "metadata": {
        "colab": {
          "base_uri": "https://localhost:8080/"
        },
        "id": "6LmjdS6E8t_P",
        "outputId": "b40e78ff-2749-4849-ef0a-80d260a0d712"
      },
      "source": [
        "df.DistrictId.unique()"
      ],
      "execution_count": 295,
      "outputs": [
        {
          "output_type": "execute_result",
          "data": {
            "text/plain": [
              "array([ 27,  22,   1,  94,  99,  44,  59,   6,   2,  88,  93,  90,  36,\n",
              "        96,  48,   8,  45,  63,  20,   7, 103,  67,  24,  23,  38, 100,\n",
              "        74,  35,   9, 167, 119, 129,   4,  62, 173,  37,  60, 111, 124,\n",
              "       157, 138, 147,  66,  42,  41,  58,  75,  81, 110,   5,  57,  77,\n",
              "        11,  61, 120, 121, 101,  32,  21, 140,  46,  91,  30,   0,  33,\n",
              "        85,  17,  56,  84, 137, 143,  31,  53, 163, 200,  78, 182,  73,\n",
              "        70,  98,  54,  55,   3, 159,  50,  49,  52, 127,  28,  83,  29,\n",
              "       194,  47, 128,  12, 187,  80, 170,  34, 205,  79, 105, 123,  39,\n",
              "       142, 176, 130,  13,  15,  25,  89, 169, 113, 108, 132, 186, 106,\n",
              "        10, 139, 151, 144,  69, 189, 152, 125, 109,  40, 162,  72, 154,\n",
              "        64,  26,  18, 164,  71,  82,  86, 155, 122, 112, 126, 166, 117,\n",
              "       116,  95,  87,  92, 168, 136, 165, 150,  68, 191, 145,  43, 188,\n",
              "       193, 146, 104,  51, 158,  97, 153, 161, 149, 107, 177, 118, 114,\n",
              "       156, 160,  14,  19, 135, 148, 131, 134, 183, 185, 190, 141, 207,\n",
              "       115, 192, 102, 171, 201,  76, 202, 133, 180, 181,  65, 208, 178,\n",
              "       179, 172, 184, 196, 199, 175,  16, 195, 209, 174])"
            ]
          },
          "metadata": {
            "tags": []
          },
          "execution_count": 295
        }
      ]
    },
    {
      "cell_type": "code",
      "metadata": {
        "colab": {
          "base_uri": "https://localhost:8080/"
        },
        "id": "Tu0w_KDKAEki",
        "outputId": "07bb8a95-b368-4222-b79b-87fc994637e6"
      },
      "source": [
        "df.Healthcare_1[df.DistrictId == 1]"
      ],
      "execution_count": 307,
      "outputs": [
        {
          "output_type": "execute_result",
          "data": {
            "text/plain": [
              "2       240.0\n",
              "3         NaN\n",
              "8         NaN\n",
              "18        NaN\n",
              "47        NaN\n",
              "        ...  \n",
              "9968      NaN\n",
              "9978      NaN\n",
              "9983      NaN\n",
              "9987      NaN\n",
              "9993      NaN\n",
              "Name: Healthcare_1, Length: 652, dtype: float64"
            ]
          },
          "metadata": {
            "tags": []
          },
          "execution_count": 307
        }
      ]
    },
    {
      "cell_type": "code",
      "metadata": {
        "colab": {
          "base_uri": "https://localhost:8080/"
        },
        "id": "gM_2eHK5AWlz",
        "outputId": "c3390fca-a34f-42c5-a52d-10fd9cadb03f"
      },
      "source": [
        "df[df.DistrictId == 2].info()"
      ],
      "execution_count": 302,
      "outputs": [
        {
          "output_type": "stream",
          "text": [
            "<class 'pandas.core.frame.DataFrame'>\n",
            "Int64Index: 78 entries, 10 to 9986\n",
            "Data columns (total 20 columns):\n",
            " #   Column         Non-Null Count  Dtype  \n",
            "---  ------         --------------  -----  \n",
            " 0   Id             78 non-null     int64  \n",
            " 1   DistrictId     78 non-null     int64  \n",
            " 2   Rooms          78 non-null     float64\n",
            " 3   Square         78 non-null     float64\n",
            " 4   LifeSquare     78 non-null     float64\n",
            " 5   KitchenSquare  78 non-null     float64\n",
            " 6   Floor          78 non-null     int64  \n",
            " 7   HouseFloor     78 non-null     float64\n",
            " 8   HouseYear      78 non-null     int64  \n",
            " 9   Ecology_1      78 non-null     float64\n",
            " 10  Ecology_2      78 non-null     int64  \n",
            " 11  Ecology_3      78 non-null     int64  \n",
            " 12  Social_1       78 non-null     int64  \n",
            " 13  Social_2       78 non-null     int64  \n",
            " 14  Social_3       78 non-null     int64  \n",
            " 15  Healthcare_1   59 non-null     float64\n",
            " 16  Helthcare_2    78 non-null     int64  \n",
            " 17  Shops_1        78 non-null     int64  \n",
            " 18  Shops_2        78 non-null     int64  \n",
            " 19  Price          78 non-null     float64\n",
            "dtypes: float64(8), int64(12)\n",
            "memory usage: 12.8 KB\n"
          ],
          "name": "stdout"
        }
      ]
    },
    {
      "cell_type": "code",
      "metadata": {
        "colab": {
          "base_uri": "https://localhost:8080/",
          "height": 419
        },
        "id": "wDR3eX2sBkUj",
        "outputId": "65a30d5c-80d5-4d77-ae04-ff5fbf9edfb6"
      },
      "source": [
        "df[['Healthcare_1','Helthcare_2']][df.DistrictId == 2]"
      ],
      "execution_count": 342,
      "outputs": [
        {
          "output_type": "execute_result",
          "data": {
            "text/html": [
              "<div>\n",
              "<style scoped>\n",
              "    .dataframe tbody tr th:only-of-type {\n",
              "        vertical-align: middle;\n",
              "    }\n",
              "\n",
              "    .dataframe tbody tr th {\n",
              "        vertical-align: top;\n",
              "    }\n",
              "\n",
              "    .dataframe thead th {\n",
              "        text-align: right;\n",
              "    }\n",
              "</style>\n",
              "<table border=\"1\" class=\"dataframe\">\n",
              "  <thead>\n",
              "    <tr style=\"text-align: right;\">\n",
              "      <th></th>\n",
              "      <th>Healthcare_1</th>\n",
              "      <th>Helthcare_2</th>\n",
              "    </tr>\n",
              "  </thead>\n",
              "  <tbody>\n",
              "    <tr>\n",
              "      <th>10</th>\n",
              "      <td>2620.0</td>\n",
              "      <td>0</td>\n",
              "    </tr>\n",
              "    <tr>\n",
              "      <th>156</th>\n",
              "      <td>990.0</td>\n",
              "      <td>0</td>\n",
              "    </tr>\n",
              "    <tr>\n",
              "      <th>230</th>\n",
              "      <td>990.0</td>\n",
              "      <td>0</td>\n",
              "    </tr>\n",
              "    <tr>\n",
              "      <th>472</th>\n",
              "      <td>990.0</td>\n",
              "      <td>0</td>\n",
              "    </tr>\n",
              "    <tr>\n",
              "      <th>537</th>\n",
              "      <td>990.0</td>\n",
              "      <td>0</td>\n",
              "    </tr>\n",
              "    <tr>\n",
              "      <th>...</th>\n",
              "      <td>...</td>\n",
              "      <td>...</td>\n",
              "    </tr>\n",
              "    <tr>\n",
              "      <th>9342</th>\n",
              "      <td>990.0</td>\n",
              "      <td>0</td>\n",
              "    </tr>\n",
              "    <tr>\n",
              "      <th>9526</th>\n",
              "      <td>NaN</td>\n",
              "      <td>2</td>\n",
              "    </tr>\n",
              "    <tr>\n",
              "      <th>9557</th>\n",
              "      <td>900.0</td>\n",
              "      <td>1</td>\n",
              "    </tr>\n",
              "    <tr>\n",
              "      <th>9896</th>\n",
              "      <td>2620.0</td>\n",
              "      <td>0</td>\n",
              "    </tr>\n",
              "    <tr>\n",
              "      <th>9986</th>\n",
              "      <td>NaN</td>\n",
              "      <td>2</td>\n",
              "    </tr>\n",
              "  </tbody>\n",
              "</table>\n",
              "<p>78 rows × 2 columns</p>\n",
              "</div>"
            ],
            "text/plain": [
              "      Healthcare_1  Helthcare_2\n",
              "10          2620.0            0\n",
              "156          990.0            0\n",
              "230          990.0            0\n",
              "472          990.0            0\n",
              "537          990.0            0\n",
              "...            ...          ...\n",
              "9342         990.0            0\n",
              "9526           NaN            2\n",
              "9557         900.0            1\n",
              "9896        2620.0            0\n",
              "9986           NaN            2\n",
              "\n",
              "[78 rows x 2 columns]"
            ]
          },
          "metadata": {
            "tags": []
          },
          "execution_count": 342
        }
      ]
    },
    {
      "cell_type": "code",
      "metadata": {
        "colab": {
          "base_uri": "https://localhost:8080/",
          "height": 419
        },
        "id": "qohrSmdXAoUw",
        "outputId": "3126babe-0e04-4171-b6a3-f2e92acb9168"
      },
      "source": [
        "df[['Healthcare_1','Helthcare_2']][df.DistrictId == 3]"
      ],
      "execution_count": 329,
      "outputs": [
        {
          "output_type": "execute_result",
          "data": {
            "text/html": [
              "<div>\n",
              "<style scoped>\n",
              "    .dataframe tbody tr th:only-of-type {\n",
              "        vertical-align: middle;\n",
              "    }\n",
              "\n",
              "    .dataframe tbody tr th {\n",
              "        vertical-align: top;\n",
              "    }\n",
              "\n",
              "    .dataframe thead th {\n",
              "        text-align: right;\n",
              "    }\n",
              "</style>\n",
              "<table border=\"1\" class=\"dataframe\">\n",
              "  <thead>\n",
              "    <tr style=\"text-align: right;\">\n",
              "      <th></th>\n",
              "      <th>Healthcare_1</th>\n",
              "      <th>Helthcare_2</th>\n",
              "    </tr>\n",
              "  </thead>\n",
              "  <tbody>\n",
              "    <tr>\n",
              "      <th>185</th>\n",
              "      <td>30.0</td>\n",
              "      <td>2</td>\n",
              "    </tr>\n",
              "    <tr>\n",
              "      <th>325</th>\n",
              "      <td>30.0</td>\n",
              "      <td>2</td>\n",
              "    </tr>\n",
              "    <tr>\n",
              "      <th>379</th>\n",
              "      <td>30.0</td>\n",
              "      <td>2</td>\n",
              "    </tr>\n",
              "    <tr>\n",
              "      <th>694</th>\n",
              "      <td>1937.0</td>\n",
              "      <td>3</td>\n",
              "    </tr>\n",
              "    <tr>\n",
              "      <th>695</th>\n",
              "      <td>30.0</td>\n",
              "      <td>2</td>\n",
              "    </tr>\n",
              "    <tr>\n",
              "      <th>...</th>\n",
              "      <td>...</td>\n",
              "      <td>...</td>\n",
              "    </tr>\n",
              "    <tr>\n",
              "      <th>9732</th>\n",
              "      <td>30.0</td>\n",
              "      <td>2</td>\n",
              "    </tr>\n",
              "    <tr>\n",
              "      <th>9840</th>\n",
              "      <td>1937.0</td>\n",
              "      <td>3</td>\n",
              "    </tr>\n",
              "    <tr>\n",
              "      <th>9845</th>\n",
              "      <td>1937.0</td>\n",
              "      <td>3</td>\n",
              "    </tr>\n",
              "    <tr>\n",
              "      <th>9884</th>\n",
              "      <td>30.0</td>\n",
              "      <td>2</td>\n",
              "    </tr>\n",
              "    <tr>\n",
              "      <th>9911</th>\n",
              "      <td>1937.0</td>\n",
              "      <td>3</td>\n",
              "    </tr>\n",
              "  </tbody>\n",
              "</table>\n",
              "<p>82 rows × 2 columns</p>\n",
              "</div>"
            ],
            "text/plain": [
              "      Healthcare_1  Helthcare_2\n",
              "185           30.0            2\n",
              "325           30.0            2\n",
              "379           30.0            2\n",
              "694         1937.0            3\n",
              "695           30.0            2\n",
              "...            ...          ...\n",
              "9732          30.0            2\n",
              "9840        1937.0            3\n",
              "9845        1937.0            3\n",
              "9884          30.0            2\n",
              "9911        1937.0            3\n",
              "\n",
              "[82 rows x 2 columns]"
            ]
          },
          "metadata": {
            "tags": []
          },
          "execution_count": 329
        }
      ]
    },
    {
      "cell_type": "code",
      "metadata": {
        "id": "L2PHJXapBC-z"
      },
      "source": [
        ""
      ],
      "execution_count": null,
      "outputs": []
    }
  ]
}