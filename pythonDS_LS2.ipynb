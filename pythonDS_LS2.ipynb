{
  "nbformat": 4,
  "nbformat_minor": 0,
  "metadata": {
    "colab": {
      "name": "pythonDS_LS2.ipynb",
      "provenance": [],
      "authorship_tag": "ABX9TyMZwiMIlDo5QuffVxnVJ/YS",
      "include_colab_link": true
    },
    "kernelspec": {
      "name": "python3",
      "display_name": "Python 3"
    }
  },
  "cells": [
    {
      "cell_type": "markdown",
      "metadata": {
        "id": "view-in-github",
        "colab_type": "text"
      },
      "source": [
        "<a href=\"https://colab.research.google.com/github/vinalyan/pytonDS/blob/lession--2/pythonDS_LS2.ipynb\" target=\"_parent\"><img src=\"https://colab.research.google.com/assets/colab-badge.svg\" alt=\"Open In Colab\"/></a>"
      ]
    },
    {
      "cell_type": "markdown",
      "metadata": {
        "id": "CZ8FKsutGedL"
      },
      "source": [
        "# Тема “Визуализация данных в Matplotlib”\n"
      ]
    },
    {
      "cell_type": "markdown",
      "metadata": {
        "id": "TqPXIOdDGh1R"
      },
      "source": [
        "## Задание 1\n",
        "Загрузите модуль `pyplot` библиотеки `matplotlib` с псевдонимом `plt`, а также библиотеку `numpy` с псевдонимом `np`.\n",
        "Примените магическую функцию `%matplotlib inline` для отображения графиков в Jupyter Notebook и настройки конфигурации ноутбука со значением '`svg`' для более четкого отображения графиков.\n",
        "\n",
        "Создайте список под названием `x` с числами `1, 2, 3, 4, 5, 6, 7` и список `y` с числами `3.5, 3.8, 4.2, 4.5, 5, 5.5, 7`.\n",
        "\n",
        "С помощью функции `plot` постройте график, соединяющий линиями точки с горизонтальными координатами из списка x и вертикальными - из списка y.\n",
        "Затем в следующей ячейке постройте диаграмму рассеяния (другие названия - диаграмма разброса, `scatter plot`).\n"
      ]
    },
    {
      "cell_type": "code",
      "metadata": {
        "id": "GqBi6jNzNgwh"
      },
      "source": [
        "import matplotlib.pyplot as plt\n",
        "import numpy as np"
      ],
      "execution_count": 1,
      "outputs": []
    },
    {
      "cell_type": "code",
      "metadata": {
        "id": "764WLBv8Nx9N"
      },
      "source": [
        "%matplotlib inline\n",
        "%config inlineBackend.figure_format = 'svg'"
      ],
      "execution_count": 27,
      "outputs": []
    },
    {
      "cell_type": "code",
      "metadata": {
        "id": "t83b219tOO5G"
      },
      "source": [
        "x = [1, 2, 3, 4, 5, 6, 7]\n",
        "y = [3.5, 3.8, 4.2, 4.5, 5, 5.5, 7]"
      ],
      "execution_count": 28,
      "outputs": []
    },
    {
      "cell_type": "code",
      "metadata": {
        "id": "iWvFnYxmOXPf",
        "outputId": "0179eb9a-5121-47bb-af4d-c96aa75a938d",
        "colab": {
          "base_uri": "https://localhost:8080/",
          "height": 265
        }
      },
      "source": [
        "plt.plot(x,y)\n",
        "plt.show()"
      ],
      "execution_count": 29,
      "outputs": [
        {
          "output_type": "display_data",
          "data": {
            "image/png": "[encoded data removed]",
            "text/plain": [
              "<Figure size 432x288 with 1 Axes>"
            ]
          },
          "metadata": {
            "tags": [],
            "needs_background": "light"
          }
        }
      ]
    },
    {
      "cell_type": "code",
      "metadata": {
        "id": "SpC6U8haOedV",
        "outputId": "a806cc6c-541d-4730-d395-219160f20049",
        "colab": {
          "base_uri": "https://localhost:8080/",
          "height": 265
        }
      },
      "source": [
        "plt.scatter(x,y)\n",
        "plt.show()"
      ],
      "execution_count": 30,
      "outputs": [
        {
          "output_type": "display_data",
          "data": {
            "image/png": "[encoded data removed]",
            "text/plain": [
              "<Figure size 432x288 with 1 Axes>"
            ]
          },
          "metadata": {
            "tags": [],
            "needs_background": "light"
          }
        }
      ]
    },
    {
      "cell_type": "markdown",
      "metadata": {
        "id": "0o7TKDszO2tW"
      },
      "source": [
        "## Задание 2\n",
        "С помощью функции `linspace` из библиотеки `Numpy` создайте массив `t` из `51` числа от `0` до `10` включительно.\n",
        "Создайте массив `Numpy` под названием `f`, содержащий косинусы элементов массива `t`.\n",
        "\n",
        "Постройте линейную диаграмму, используя массив `t` для координат по горизонтали,а массив `f` - для координат по вертикали. Линия графика должна быть зеленого цвета.\n",
        "\n",
        "Выведите название диаграммы - 'График `f(t)`'. Также добавьте названия для горизонтальной оси - 'Значения t' и для вертикальной - Значения `f`.\n",
        "\n",
        "Ограничьте график по оси x значениями `0.5` и `9.5`, а по оси `y` - значениями `-2.5` и `2.5`."
      ]
    },
    {
      "cell_type": "code",
      "metadata": {
        "id": "I3R2IZvnPSTX"
      },
      "source": [
        "t = np.linspace(0, 10, 51)\n",
        "f = np.cos(t)"
      ],
      "execution_count": 16,
      "outputs": []
    },
    {
      "cell_type": "code",
      "metadata": {
        "id": "iUB28vE0Pj6L",
        "outputId": "ccb30335-7888-45d7-b992-499e0a009edb",
        "colab": {
          "base_uri": "https://localhost:8080/",
          "height": 295
        }
      },
      "source": [
        "plt.plot(t,f, color = 'green')\n",
        "plt.xlabel('Значния t')\n",
        "plt.ylabel('Значния f')\n",
        "plt.title('График f(t)')\n",
        "plt.axis([0.5, 9.5, -2.5, 2.5])\n",
        "plt.show()"
      ],
      "execution_count": 38,
      "outputs": [
        {
          "output_type": "display_data",
          "data": {
            "image/png": "[encoded data removed]",
            "text/plain": [
              "<Figure size 432x288 with 1 Axes>"
            ]
          },
          "metadata": {
            "tags": [],
            "needs_background": "light"
          }
        }
      ]
    },
    {
      "cell_type": "code",
      "metadata": {
        "id": "Q0gMkfUfP-pB"
      },
      "source": [
        ""
      ],
      "execution_count": null,
      "outputs": []
    },
    {
      "cell_type": "markdown",
      "metadata": {
        "id": "Mmv7bGKXRo-w"
      },
      "source": [
        "## *Задание 3\n",
        "С помощью функции `linspace` библиотеки `Numpy` создайте массив `x` из `51` числа от `-3` до `3` включительно.\n",
        "Создайте массивы `y1, y2, y3, y4` по следующим формулам:\n",
        "* `y1 = x**2`\n",
        "* `y2 = 2 * x + 0.5`\n",
        "* `y3 = -3 * x - 1.5`\n",
        "* `y4 = sin(x)`\n",
        "\n",
        "Используя функцию `subplots` модуля `matplotlib.pyplot`, создайте объект `matplotlib.figure.Figure` с названием `fig` и массив объектов `Axes` под названием `ax`,причем так, чтобы у вас было 4 отдельных графика в сетке, состоящей из двух строк и двух столбцов. \n",
        "\n",
        "В каждом графике массив `x` используется для координат по горизонтали.\n",
        "\n",
        "* в левом верхнем графике для координат по вертикали используйте y1,\n",
        "* в правом верхнем - y2, \n",
        "* в левом нижнем - y3, \n",
        "* в правом нижнем - y4.\n",
        "\n",
        "Дайте название графикам: 'График y1', 'График y2' и т.д.\n",
        "\n",
        "Для графика в левом верхнем углу установите границы по оси x от -5 до 5.\n",
        "\n",
        "Установите размеры фигуры 8 дюймов по горизонтали и 6 дюймов по вертикали.\n",
        "\n",
        "Вертикальные и горизонтальные зазоры между графиками должны составлять 0.3.\n"
      ]
    },
    {
      "cell_type": "code",
      "metadata": {
        "id": "rBy7wIBvS2Uz"
      },
      "source": [
        ""
      ],
      "execution_count": null,
      "outputs": []
    }
  ]
}