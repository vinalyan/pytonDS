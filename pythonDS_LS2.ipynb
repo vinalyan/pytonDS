{
  "nbformat": 4,
  "nbformat_minor": 0,
  "metadata": {
    "colab": {
      "name": "pythonDS_LS2.ipynb",
      "provenance": [],
      "authorship_tag": "ABX9TyMAkR9zjwhRfEfF2eb7pbH4",
      "include_colab_link": true
    },
    "kernelspec": {
      "name": "python3",
      "display_name": "Python 3"
    }
  },
  "cells": [
    {
      "cell_type": "markdown",
      "metadata": {
        "id": "view-in-github",
        "colab_type": "text"
      },
      "source": [
        "<a href=\"https://colab.research.google.com/github/vinalyan/pytonDS/blob/lession--2/pythonDS_LS2.ipynb\" target=\"_parent\"><img src=\"https://colab.research.google.com/assets/colab-badge.svg\" alt=\"Open In Colab\"/></a>"
      ]
    },
    {
      "cell_type": "markdown",
      "metadata": {
        "id": "CZ8FKsutGedL"
      },
      "source": [
        "# Тема “Визуализация данных в Matplotlib”\n"
      ]
    },
    {
      "cell_type": "markdown",
      "metadata": {
        "id": "TqPXIOdDGh1R"
      },
      "source": [
        ""
      ]
    }
  ]
}