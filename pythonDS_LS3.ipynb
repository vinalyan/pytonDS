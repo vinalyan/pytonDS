{
  "nbformat": 4,
  "nbformat_minor": 0,
  "metadata": {
    "colab": {
      "name": "pythonDS_LS3.ipynb",
      "provenance": [],
      "toc_visible": true,
      "authorship_tag": "ABX9TyM4dXMkXO1HxMjleOikMLtV",
      "include_colab_link": true
    },
    "kernelspec": {
      "name": "python3",
      "display_name": "Python 3"
    }
  },
  "cells": [
    {
      "cell_type": "markdown",
      "metadata": {
        "id": "view-in-github",
        "colab_type": "text"
      },
      "source": [
        "<a href=\"https://colab.research.google.com/github/vinalyan/pytonDS/blob/lession--3/pythonDS_LS3.ipynb\" target=\"_parent\"><img src=\"https://colab.research.google.com/assets/colab-badge.svg\" alt=\"Open In Colab\"/></a>"
      ]
    },
    {
      "cell_type": "markdown",
      "metadata": {
        "id": "Nm9tDxpCIINY"
      },
      "source": [
        "# Задание 1\n",
        "1. Импортируйте библиотеки `pandas` и `numpy`.\n",
        "2. Загрузите `\"Boston House Prices dataset\"` из встроенных наборов данных библиотеки sklearn. Создайте датафреймы X и y из этих данных.\n",
        "Разбейте эти датафреймы на тренировочные (X_train, y_train) и тестовые (`X_test, y_test`) с помощью функции `train_test_split` так, чтобы размер тестовой выборки\n",
        "составлял 30% от всех данных, при этом аргумент random_state должен быть равен 42.\n",
        "3. Создайте модель линейной регрессии под названием `lr` с помощью класса `LinearRegression` из модуля `sklearn.linear_model`.\n",
        "4. Обучите модель на тренировочных данных (используйте все признаки) и сделайте предсказание на тестовых.\n",
        "5. Вычислите `R2` полученных предказаний с помощью `r2_score` из модуля `sklearn.metrics`.\n"
      ]
    },
    {
      "cell_type": "code",
      "metadata": {
        "id": "7sSQlU8nILvh"
      },
      "source": [
        "import pandas as pd\n",
        "import numpy as np"
      ],
      "execution_count": 24,
      "outputs": []
    },
    {
      "cell_type": "code",
      "metadata": {
        "id": "uMPjeUUrQ1hS"
      },
      "source": [
        "from sklearn.datasets import load_boston\n",
        "X, y = load_boston(return_X_y=True)"
      ],
      "execution_count": 25,
      "outputs": []
    },
    {
      "cell_type": "code",
      "metadata": {
        "id": "pqqI4Mq1P2-r"
      },
      "source": [
        "from sklearn.model_selection import train_test_split\n",
        "\n",
        "X_train, X_test, y_train, y_test = train_test_split(X,y,test_size=0.33, random_state=42)"
      ],
      "execution_count": 26,
      "outputs": []
    },
    {
      "cell_type": "code",
      "metadata": {
        "id": "SoRjODXSP3Pi"
      },
      "source": [
        "from sklearn.linear_model import LinearRegression\n",
        "lr  = LinearRegression()\n",
        "lr.fit(X_train,y_train)\n",
        "y_pred = lr.predict(X_test)"
      ],
      "execution_count": 27,
      "outputs": []
    },
    {
      "cell_type": "code",
      "metadata": {
        "colab": {
          "base_uri": "https://localhost:8080/"
        },
        "id": "GgmP6LkdS81N",
        "outputId": "03631f05-ad9d-47c4-8138-acb3a57bd312"
      },
      "source": [
        "from sklearn.metrics import r2_score\n",
        "r2_score(y_test,y_pred)"
      ],
      "execution_count": 28,
      "outputs": [
        {
          "output_type": "execute_result",
          "data": {
            "text/plain": [
              "0.7261570836552481"
            ]
          },
          "metadata": {
            "tags": []
          },
          "execution_count": 28
        }
      ]
    },
    {
      "cell_type": "markdown",
      "metadata": {
        "id": "RxrT-C0BJyzz"
      },
      "source": [
        "# Задание 2\n",
        "1. Создайте модель под названием `model` с помощью `RandomForestRegressor` из модуля `sklearn.ensemble`.\n",
        "2. Сделайте агрумент `n_estimators` равным `1000`,\n",
        "`max_depth` должен быть равен `12` и `random_state` сделайте равным `42`.\n",
        "3. Обучите модель на тренировочных данных аналогично тому, как вы обучали модель `LinearRegression`, но при этом в метод `fit` вместо датафрейма `y_train` поставьте` y_train.values[:, 0]`,чтобы получить из датафрейма одномерный массив `Numpy`, так как для класса `RandomForestRegressor` в данном методе для аргумента y предпочтительно применение массивов вместо датафрейма.\n",
        "4. Сделайте предсказание на тестовых данных и посчитайте `R2`. Сравните с результатом из предыдущего задания.\n",
        "5. Напишите в комментариях к коду, какая модель в данном случае работает лучше.\n",
        "\n"
      ]
    },
    {
      "cell_type": "code",
      "metadata": {
        "id": "APRMBCU2KuGx"
      },
      "source": [
        "from sklearn.ensemble import RandomForestRegressor \n",
        "model = RandomForestRegressor(n_estimators = 1000, max_depth=12, random_state=42)"
      ],
      "execution_count": 30,
      "outputs": []
    },
    {
      "cell_type": "code",
      "metadata": {
        "id": "Pr-fSMLoUdj9"
      },
      "source": [
        "model.fit(X_train,y_train)\n",
        "y_pred_tree = model.predict(X_test)"
      ],
      "execution_count": 45,
      "outputs": []
    },
    {
      "cell_type": "code",
      "metadata": {
        "colab": {
          "base_uri": "https://localhost:8080/"
        },
        "id": "prXGznw5VR8c",
        "outputId": "2d600d67-ee6f-48bb-d12a-5e269156e412"
      },
      "source": [
        "r2_score(y_test,y_pred_tree)"
      ],
      "execution_count": 43,
      "outputs": [
        {
          "output_type": "execute_result",
          "data": {
            "text/plain": [
              "0.8668846861181482"
            ]
          },
          "metadata": {
            "tags": []
          },
          "execution_count": 43
        }
      ]
    },
    {
      "cell_type": "markdown",
      "metadata": {
        "id": "eyDvyVPaWn9C"
      },
      "source": [
        "Судя по коэффициенту детерминации лес работает поточнее. "
      ]
    },
    {
      "cell_type": "markdown",
      "metadata": {
        "id": "-qJNQF6tXfT9"
      },
      "source": [
        "# *Задание 3\n",
        "Вызовите документацию для класса `RandomForestRegressor`,\n",
        "найдите информацию об атрибуте `feature_importances_`.\n",
        "С помощью этого атрибута найдите сумму всех показателей важности,\n",
        "установите, какие два признака показывают наибольшую важность.\n"
      ]
    },
    {
      "cell_type": "code",
      "metadata": {
        "id": "kc4kKUw_Xm2l"
      },
      "source": [
        "RandomForestRegressor?"
      ],
      "execution_count": 46,
      "outputs": []
    },
    {
      "cell_type": "code",
      "metadata": {
        "id": "MCr1DLXyX1Kh",
        "outputId": "9e570004-d84f-49bf-9c6d-40c7ec866419",
        "colab": {
          "base_uri": "https://localhost:8080/"
        }
      },
      "source": [
        "model.feature_importances_"
      ],
      "execution_count": 51,
      "outputs": [
        {
          "output_type": "execute_result",
          "data": {
            "text/plain": [
              "array([0.03396895, 0.00314105, 0.00626996, 0.00133789, 0.01189693,\n",
              "       0.35801278, 0.01476964, 0.05994205, 0.004543  , 0.01247413,\n",
              "       0.01902944, 0.01174753, 0.46286667])"
            ]
          },
          "metadata": {
            "tags": []
          },
          "execution_count": 51
        }
      ]
    },
    {
      "cell_type": "markdown",
      "metadata": {
        "id": "RNFNRbG0YSLU"
      },
      "source": [
        "Наиболее важными показателями являются показатели под номерами:\n",
        "* 5 -  0.36\n",
        "* 12 - 0.46"
      ]
    },
    {
      "cell_type": "markdown",
      "metadata": {
        "id": "8Cyu80CrZEcd"
      },
      "source": [
        "# *Задание 4\n",
        "В этом задании мы будем работать с датасетом, с которым мы уже знакомы по домашнему заданию по библиотеке Matplotlib, это датасет Credit Card Fraud Detection.\n",
        "Для этого датасета мы будем решать задачу классификации - будем определять,какие из транзакциции по кредитной карте являются мошенническими.Данный датасет сильно несбалансирован (так как случаи мошенничества относительно редки),так что применение метрики accuracy не принесет пользы и не поможет выбрать лучшую модель.Мы будем вычислять AUC, то есть площадь под кривой ROC.\n",
        "Импортируйте из соответствующих модулей RandomForestClassifier, GridSearchCV и train_test_split.\n",
        "Загрузите датасет creditcard.csv и создайте датафрейм df.\n",
        "С помощью метода value_counts с аргументом normalize=True убедитесь в том, что выборка несбалансирована.Используя метод info, проверьте, все ли столбцы содержат числовые данные и нет ли в них пропусков.Примените следующую настройку, чтобы можно было просматривать все столбцы датафрейма:\n",
        "`pd.options.display.max_columns = 100`.\n",
        "Просмотрите первые 10 строк датафрейма df.\n",
        "Создайте датафрейм X из датафрейма df, исключив столбец Class.\n",
        "Создайте объект Series под названием y из столбца Class.\n",
        "\n",
        "Разбейте X и y на тренировочный и тестовый наборы данных при помощи функции train_test_split, используя аргументы: test_size=0.3, random_state=100, stratify=y.\n",
        "У вас должны получиться объекты X_train, X_test, y_train и y_test.\n",
        "Просмотрите информацию о их форме.\n",
        "Для поиска по сетке параметров задайте такие параметры:\n",
        "\n",
        "`parameters = [{'n_estimators': [10, 15],'max_features': np.arange(3, 5),'max_depth': np.arange(4, 7)`\n",
        "\n",
        "Создайте модель GridSearchCV со следующими аргументами:\n",
        "estimator=RandomForestClassifier(random_state=100),\n",
        "param_grid=parameters,\n",
        "scoring='roc_auc',\n",
        "cv=3.\n",
        "Обучите модель на тренировочном наборе данных (может занять несколько минут).\n",
        "Просмотрите параметры лучшей модели с помощью атрибута best_params_.\n",
        "Предскажите вероятности классов с помощью полученнной модели и метода predict_proba.\n",
        "Из полученного результата (массив Numpy) выберите столбец с индексом 1 (вероятность класса 1) и запишите в массив y_pred_proba. Из модуля sklearn.metrics импортируйте метрику roc_auc_score.\n",
        "Вычислите AUC на тестовых данных и сравните с результатом,полученным на тренировочных данных, используя в качестве аргументовмассивы y_test и y_pred_proba.\n"
      ]
    }
  ]
}