{
  "nbformat": 4,
  "nbformat_minor": 0,
  "metadata": {
    "colab": {
      "name": "pythonDS_LS3.ipynb",
      "provenance": [],
      "toc_visible": true,
      "authorship_tag": "ABX9TyM2Kvgf5cop3wbFrOR0qf0N",
      "include_colab_link": true
    },
    "kernelspec": {
      "name": "python3",
      "display_name": "Python 3"
    }
  },
  "cells": [
    {
      "cell_type": "markdown",
      "metadata": {
        "id": "view-in-github",
        "colab_type": "text"
      },
      "source": [
        "<a href=\"https://colab.research.google.com/github/vinalyan/pytonDS/blob/lession--3/pythonDS_LS3.ipynb\" target=\"_parent\"><img src=\"https://colab.research.google.com/assets/colab-badge.svg\" alt=\"Open In Colab\"/></a>"
      ]
    },
    {
      "cell_type": "markdown",
      "metadata": {
        "id": "Nm9tDxpCIINY"
      },
      "source": [
        "# Задание 1\n",
        "1. Импортируйте библиотеки `pandas` и `numpy`.\n",
        "2. Загрузите `\"Boston House Prices dataset\"` из встроенных наборов данных библиотеки sklearn. Создайте датафреймы X и y из этих данных.\n",
        "Разбейте эти датафреймы на тренировочные (X_train, y_train) и тестовые (`X_test, y_test`) с помощью функции `train_test_split` так, чтобы размер тестовой выборки\n",
        "составлял 30% от всех данных, при этом аргумент random_state должен быть равен 42.\n",
        "3. Создайте модель линейной регрессии под названием `lr` с помощью класса `LinearRegression` из модуля `sklearn.linear_model`.\n",
        "4. Обучите модель на тренировочных данных (используйте все признаки) и сделайте предсказание на тестовых.\n",
        "5. Вычислите `R2` полученных предказаний с помощью `r2_score` из модуля `sklearn.metrics`.\n"
      ]
    },
    {
      "cell_type": "code",
      "metadata": {
        "id": "7sSQlU8nILvh"
      },
      "source": [
        "import pandas as pd\n",
        "import numpy as np"
      ],
      "execution_count": 24,
      "outputs": []
    },
    {
      "cell_type": "code",
      "metadata": {
        "id": "uMPjeUUrQ1hS"
      },
      "source": [
        "from sklearn.datasets import load_boston\n",
        "X, y = load_boston(return_X_y=True)"
      ],
      "execution_count": 25,
      "outputs": []
    },
    {
      "cell_type": "code",
      "metadata": {
        "id": "pqqI4Mq1P2-r"
      },
      "source": [
        "from sklearn.model_selection import train_test_split\n",
        "\n",
        "X_train, X_test, y_train, y_test = train_test_split(X,y,test_size=0.33, random_state=42)"
      ],
      "execution_count": 26,
      "outputs": []
    },
    {
      "cell_type": "code",
      "metadata": {
        "id": "SoRjODXSP3Pi"
      },
      "source": [
        "from sklearn.linear_model import LinearRegression\n",
        "lr  = LinearRegression()\n",
        "lr.fit(X_train,y_train)\n",
        "y_pred = lr.predict(X_test)"
      ],
      "execution_count": 27,
      "outputs": []
    },
    {
      "cell_type": "code",
      "metadata": {
        "id": "GgmP6LkdS81N",
        "outputId": "03631f05-ad9d-47c4-8138-acb3a57bd312",
        "colab": {
          "base_uri": "https://localhost:8080/"
        }
      },
      "source": [
        "from sklearn.metrics import r2_score\n",
        "r2_score(y_test,y_pred)"
      ],
      "execution_count": 28,
      "outputs": [
        {
          "output_type": "execute_result",
          "data": {
            "text/plain": [
              "0.7261570836552481"
            ]
          },
          "metadata": {
            "tags": []
          },
          "execution_count": 28
        }
      ]
    },
    {
      "cell_type": "markdown",
      "metadata": {
        "id": "RxrT-C0BJyzz"
      },
      "source": [
        "# Задание 2\n",
        "1. Создайте модель под названием `model` с помощью `RandomForestRegressor` из модуля `sklearn.ensemble`.\n",
        "2. Сделайте агрумент `n_estimators` равным `1000`,\n",
        "`max_depth` должен быть равен `12` и `random_state` сделайте равным `42`.\n",
        "3. Обучите модель на тренировочных данных аналогично тому, как вы обучали модель `LinearRegression`, но при этом в метод `fit` вместо датафрейма `y_train` поставьте` y_train.values[:, 0]`,чтобы получить из датафрейма одномерный массив `Numpy`, так как для класса `RandomForestRegressor` в данном методе для аргумента y предпочтительно применение массивов вместо датафрейма.\n",
        "4. Сделайте предсказание на тестовых данных и посчитайте `R2`. Сравните с результатом из предыдущего задания.\n",
        "5. Напишите в комментариях к коду, какая модель в данном случае работает лучше.\n",
        "\n"
      ]
    },
    {
      "cell_type": "code",
      "metadata": {
        "id": "APRMBCU2KuGx"
      },
      "source": [
        "from sklearn.ensemble import RandomForestRegressor \n",
        "model = RandomForestRegressor(n_estimators = 1000, max_depth=12, random_state=42)"
      ],
      "execution_count": 30,
      "outputs": []
    },
    {
      "cell_type": "code",
      "metadata": {
        "id": "Pr-fSMLoUdj9"
      },
      "source": [
        "model.fit(X_train,y_train)\n",
        "y_pred_tree = model.predict(X_test)"
      ],
      "execution_count": 42,
      "outputs": []
    },
    {
      "cell_type": "code",
      "metadata": {
        "id": "prXGznw5VR8c",
        "outputId": "2d600d67-ee6f-48bb-d12a-5e269156e412",
        "colab": {
          "base_uri": "https://localhost:8080/"
        }
      },
      "source": [
        "r2_score(y_test,y_pred_tree)"
      ],
      "execution_count": 43,
      "outputs": [
        {
          "output_type": "execute_result",
          "data": {
            "text/plain": [
              "0.8668846861181482"
            ]
          },
          "metadata": {
            "tags": []
          },
          "execution_count": 43
        }
      ]
    }
  ]
}