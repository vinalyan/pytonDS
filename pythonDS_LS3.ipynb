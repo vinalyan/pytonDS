{
  "nbformat": 4,
  "nbformat_minor": 0,
  "metadata": {
    "colab": {
      "name": "pythonDS_LS3.ipynb",
      "provenance": [],
      "toc_visible": true,
      "authorship_tag": "ABX9TyN3C4kFUBjojmLX4Tk6IyQy",
      "include_colab_link": true
    },
    "kernelspec": {
      "name": "python3",
      "display_name": "Python 3"
    }
  },
  "cells": [
    {
      "cell_type": "markdown",
      "metadata": {
        "id": "view-in-github",
        "colab_type": "text"
      },
      "source": [
        "<a href=\"https://colab.research.google.com/github/vinalyan/pytonDS/blob/lession--3/pythonDS_LS3.ipynb\" target=\"_parent\"><img src=\"https://colab.research.google.com/assets/colab-badge.svg\" alt=\"Open In Colab\"/></a>"
      ]
    },
    {
      "cell_type": "code",
      "metadata": {
        "id": "6xH5NIGRGqAa"
      },
      "source": [
        ""
      ],
      "execution_count": null,
      "outputs": []
    },
    {
      "cell_type": "markdown",
      "metadata": {
        "id": "Nm9tDxpCIINY"
      },
      "source": [
        "# Задание 1\n",
        "1. Импортируйте библиотеки `pandas` и `numpy`.\n",
        "2. Загрузите \"Boston House Prices dataset\" из встроенных наборов данных библиотеки sklearn. Создайте датафреймы X и y из этих данных.\n",
        "Разбейте эти датафреймы на тренировочные (X_train, y_train) и тестовые (`X_test, y_test`) с помощью функции `train_test_split` так, чтобы размер тестовой выборки\n",
        "составлял 30% от всех данных, при этом аргумент random_state должен быть равен 42.\n",
        "3. Создайте модель линейной регрессии под названием `lr` с помощью класса `LinearRegression` из модуля `sklearn.linear_model`.\n",
        "4. Обучите модель на тренировочных данных (используйте все признаки) и сделайте предсказание на тестовых.\n",
        "5. Вычислите `R2` полученных предказаний с помощью `r2_score` из модуля `sklearn.metrics`.\n"
      ]
    },
    {
      "cell_type": "code",
      "metadata": {
        "id": "7sSQlU8nILvh"
      },
      "source": [
        "import pandas as pd\n",
        "import numpy as np\n",
        "import sklearn as "
      ],
      "execution_count": null,
      "outputs": []
    },
    {
      "cell_type": "code",
      "metadata": {
        "id": "pqqI4Mq1P2-r"
      },
      "source": [
        ""
      ],
      "execution_count": null,
      "outputs": []
    },
    {
      "cell_type": "code",
      "metadata": {
        "id": "SoRjODXSP3Pi"
      },
      "source": [
        ""
      ],
      "execution_count": null,
      "outputs": []
    },
    {
      "cell_type": "code",
      "metadata": {
        "id": "gvmB8nJBP3B0"
      },
      "source": [
        ""
      ],
      "execution_count": null,
      "outputs": []
    },
    {
      "cell_type": "code",
      "metadata": {
        "id": "-Pp2y6aoP213"
      },
      "source": [
        ""
      ],
      "execution_count": null,
      "outputs": []
    },
    {
      "cell_type": "markdown",
      "metadata": {
        "id": "RxrT-C0BJyzz"
      },
      "source": [
        "# Задание 2\n",
        "1. С помощью функции `linspace` из библиотеки `Numpy` создайте массив `t` из `51` числа от `0` до `10` включительно.\n",
        "2. Создайте массив Numpy под названием `f`, содержащий косинусы элементов массива `t`.\n",
        "3. Постройте линейную диаграмму, используя массив `t` для координат по горизонтали,а массив `f` - для координат по вертикали. Линия графика должна быть зеленого цвета.\n",
        "4. Выведите название диаграммы - `'График f(t)'`. Также добавьте названия для горизонтальной оси - `'Значения t'` и для вертикальной - `'Значения f'`.\n",
        "5. Ограничьте график по оси` x` значениями `0.5` и `9.5`, а по оси y - значениями `-2.5` и `2.5`.\n"
      ]
    },
    {
      "cell_type": "code",
      "metadata": {
        "id": "aF_ptL6_KOoi"
      },
      "source": [
        "t = np.linspace(0,10,51)"
      ],
      "execution_count": null,
      "outputs": []
    },
    {
      "cell_type": "code",
      "metadata": {
        "id": "jCoXk2HiKXY7"
      },
      "source": [
        "f = np.cos(t)"
      ],
      "execution_count": null,
      "outputs": []
    },
    {
      "cell_type": "code",
      "metadata": {
        "colab": {
          "base_uri": "https://localhost:8080/",
          "height": 295
        },
        "id": "BclaVf55KhHp",
        "outputId": "489c2ed2-93b4-467f-e4ea-01b387d52e5b"
      },
      "source": [
        "plt.plot(t,f)\n",
        "plt.title('График f(t)')\n",
        "plt.xlabel('Значения t')\n",
        "plt.ylabel('Значения f')\n",
        "plt.xlim(0.5,9.5)\n",
        "plt.ylim(-2.5,2.5)\n",
        "plt.show()"
      ],
      "execution_count": null,
      "outputs": [
        {
          "output_type": "display_data",
          "data": {
            "image/png": "[encoded data removed]",
            "text/plain": [
              "<Figure size 432x288 with 1 Axes>"
            ]
          },
          "metadata": {
            "tags": [],
            "needs_background": "light"
          }
        }
      ]
    },
    {
      "cell_type": "code",
      "metadata": {
        "id": "APRMBCU2KuGx"
      },
      "source": [
        ""
      ],
      "execution_count": null,
      "outputs": []
    }
  ]
}